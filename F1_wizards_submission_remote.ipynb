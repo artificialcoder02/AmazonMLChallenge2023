{
  "cells": [
    {
      "attachments": {},
      "cell_type": "markdown",
      "metadata": {},
      "source": [
        "# Importing Libraries\n"
      ]
    },
    {
      "cell_type": "code",
      "execution_count": 25,
      "metadata": {
        "id": "XNCT9VdOYe9W"
      },
      "outputs": [],
      "source": [
        "import pandas as pd\n",
        "import tqdm as tqdm"
      ]
    },
    {
      "cell_type": "code",
      "execution_count": 26,
      "metadata": {
        "id": "loFWtVSqY-XS"
      },
      "outputs": [],
      "source": [
        "train_data=pd.read_csv(r'C:\\Users\\rctuh\\Desktop\\amazon_ml_challenge\\dataset\\train.csv')\n",
        "test_data=pd.read_csv(r'C:\\Users\\rctuh\\Desktop\\amazon_ml_challenge\\dataset\\test.csv')\n",
        "validation_data=pd.read_csv(r'C:\\Users\\rctuh\\Desktop\\amazon_ml_challenge\\dataset\\sample_submission.csv')"
      ]
    },
    {
      "attachments": {},
      "cell_type": "markdown",
      "metadata": {},
      "source": [
        "# Doing EDA on the Dataset "
      ]
    },
    {
      "cell_type": "code",
      "execution_count": 27,
      "metadata": {},
      "outputs": [],
      "source": [
        "import numpy as np\n",
        "import matplotlib.pyplot as plt\n",
        "import seaborn as sns"
      ]
    },
    {
      "cell_type": "code",
      "execution_count": 28,
      "metadata": {},
      "outputs": [
        {
          "name": "stdout",
          "output_type": "stream",
          "text": [
            "   PRODUCT_ID                                              TITLE  \\\n",
            "0     1925202  ArtzFolio Tulip Flowers Blackout Curtain for D...   \n",
            "1     2673191  Marks & Spencer Girls' Pyjama Sets T86_2561C_N...   \n",
            "2     2765088  PRIKNIK Horn Red Electric Air Horn Compressor ...   \n",
            "3     1594019  ALISHAH Women's Cotton Ankle Length Leggings C...   \n",
            "4      283658  The United Empire Loyalists: A Chronicle of th...   \n",
            "\n",
            "                                       BULLET_POINTS  \\\n",
            "0  [LUXURIOUS & APPEALING: Beautiful custom-made ...   \n",
            "1  [Harry Potter Hedwig Pyjamas (6-16 Yrs),100% c...   \n",
            "2  [Loud Dual Tone Trumpet Horn, Compatible With ...   \n",
            "3  [Made By 95%cotton and 5% Lycra which gives yo...   \n",
            "4                                                NaN   \n",
            "\n",
            "                                         DESCRIPTION  PRODUCT_TYPE_ID  \\\n",
            "0                                                NaN             1650   \n",
            "1                                                NaN             2755   \n",
            "2  Specifications: Color: Red, Material: Aluminiu...             7537   \n",
            "3  AISHAH Women's Lycra Cotton Ankel Leggings. Br...             2996   \n",
            "4                                                NaN             6112   \n",
            "\n",
            "   PRODUCT_LENGTH  \n",
            "0     2125.980000  \n",
            "1      393.700000  \n",
            "2      748.031495  \n",
            "3      787.401574  \n",
            "4      598.424000  \n",
            "The Shape of the Training Data is :  (2249698, 6)\n"
          ]
        }
      ],
      "source": [
        "print(train_data.head())\n",
        "print(\"The Shape of the Training Data is : \" ,train_data.shape)"
      ]
    },
    {
      "cell_type": "code",
      "execution_count": 30,
      "metadata": {},
      "outputs": [
        {
          "name": "stdout",
          "output_type": "stream",
          "text": [
            "   PRODUCT_ID                                              TITLE  \\\n",
            "0      604373  Manuel d'Héliogravure Et de Photogravure En Re...   \n",
            "1     1729783  DCGARING Microfiber Throw Blanket Warm Fuzzy P...   \n",
            "2     1871949  I-Match Auto Parts Front License Plate Bracket...   \n",
            "3     1107571  PinMart Gold Plated Excellence in Service 1 Ye...   \n",
            "4      624253  Visual Mathematics, Illustrated by the TI-92 a...   \n",
            "\n",
            "                                       BULLET_POINTS  \\\n",
            "0                                                NaN   \n",
            "1  [QUALITY GUARANTEED: Luxury cozy plush polyest...   \n",
            "2  [Front License Plate Bracket Made Of Plastic,D...   \n",
            "3  [Available as a single item or bulk packed. Se...   \n",
            "4                                                NaN   \n",
            "\n",
            "                                         DESCRIPTION  PRODUCT_TYPE_ID  \n",
            "0                                                NaN             6142  \n",
            "1  <b>DCGARING Throw Blanket</b><br><br> <b>Size ...             1622  \n",
            "2  Replacement for The Following Vehicles:2020 LE...             7540  \n",
            "3  Our Excellence in Service Lapel Pins feature a...            12442  \n",
            "4                                                NaN             6318  \n",
            "The Shape of the Testing Data is :  (734736, 5)\n"
          ]
        }
      ],
      "source": [
        "print(test_data.head())\n",
        "print(\"The Shape of the Testing Data is : \" ,test_data.shape)"
      ]
    },
    {
      "attachments": {},
      "cell_type": "markdown",
      "metadata": {},
      "source": [
        "### Just Exploring the Training Data"
      ]
    },
    {
      "cell_type": "code",
      "execution_count": 31,
      "metadata": {},
      "outputs": [
        {
          "data": {
            "text/plain": [
              "PRODUCT_ID           int64\n",
              "TITLE               object\n",
              "BULLET_POINTS       object\n",
              "DESCRIPTION         object\n",
              "PRODUCT_TYPE_ID      int64\n",
              "PRODUCT_LENGTH     float64\n",
              "dtype: object"
            ]
          },
          "execution_count": 31,
          "metadata": {},
          "output_type": "execute_result"
        }
      ],
      "source": [
        "train_data.dtypes\n"
      ]
    },
    {
      "cell_type": "code",
      "execution_count": 32,
      "metadata": {},
      "outputs": [
        {
          "data": {
            "text/plain": [
              "PRODUCT_ID               0\n",
              "TITLE                   12\n",
              "BULLET_POINTS       837364\n",
              "DESCRIPTION        1157381\n",
              "PRODUCT_TYPE_ID          0\n",
              "PRODUCT_LENGTH           0\n",
              "dtype: int64"
            ]
          },
          "execution_count": 32,
          "metadata": {},
          "output_type": "execute_result"
        }
      ],
      "source": [
        "train_data.isnull().sum()"
      ]
    },
    {
      "cell_type": "code",
      "execution_count": 34,
      "metadata": {},
      "outputs": [],
      "source": [
        "train_data.fillna(\"\", inplace=True)\n"
      ]
    },
    {
      "cell_type": "code",
      "execution_count": 35,
      "metadata": {},
      "outputs": [
        {
          "data": {
            "text/plain": [
              "0"
            ]
          },
          "execution_count": 35,
          "metadata": {},
          "output_type": "execute_result"
        }
      ],
      "source": [
        "train_data.duplicated().sum()\n"
      ]
    },
    {
      "cell_type": "code",
      "execution_count": 36,
      "metadata": {},
      "outputs": [
        {
          "data": {
            "text/plain": [
              "PRODUCT_ID         0\n",
              "TITLE              0\n",
              "BULLET_POINTS      0\n",
              "DESCRIPTION        0\n",
              "PRODUCT_TYPE_ID    0\n",
              "PRODUCT_LENGTH     0\n",
              "dtype: int64"
            ]
          },
          "execution_count": 36,
          "metadata": {},
          "output_type": "execute_result"
        }
      ],
      "source": [
        "train_data.isnull().sum()"
      ]
    },
    {
      "cell_type": "code",
      "execution_count": 37,
      "metadata": {},
      "outputs": [
        {
          "data": {
            "text/html": [
              "<div>\n",
              "<style scoped>\n",
              "    .dataframe tbody tr th:only-of-type {\n",
              "        vertical-align: middle;\n",
              "    }\n",
              "\n",
              "    .dataframe tbody tr th {\n",
              "        vertical-align: top;\n",
              "    }\n",
              "\n",
              "    .dataframe thead th {\n",
              "        text-align: right;\n",
              "    }\n",
              "</style>\n",
              "<table border=\"1\" class=\"dataframe\">\n",
              "  <thead>\n",
              "    <tr style=\"text-align: right;\">\n",
              "      <th></th>\n",
              "      <th>PRODUCT_ID</th>\n",
              "      <th>PRODUCT_TYPE_ID</th>\n",
              "      <th>PRODUCT_LENGTH</th>\n",
              "    </tr>\n",
              "  </thead>\n",
              "  <tbody>\n",
              "    <tr>\n",
              "      <th>count</th>\n",
              "      <td>2.249698e+06</td>\n",
              "      <td>2.249698e+06</td>\n",
              "      <td>2.249698e+06</td>\n",
              "    </tr>\n",
              "    <tr>\n",
              "      <th>mean</th>\n",
              "      <td>1.499795e+06</td>\n",
              "      <td>4.000456e+03</td>\n",
              "      <td>4.071839e+03</td>\n",
              "    </tr>\n",
              "    <tr>\n",
              "      <th>std</th>\n",
              "      <td>8.661944e+05</td>\n",
              "      <td>3.966146e+03</td>\n",
              "      <td>1.351685e+06</td>\n",
              "    </tr>\n",
              "    <tr>\n",
              "      <th>min</th>\n",
              "      <td>1.000000e+00</td>\n",
              "      <td>0.000000e+00</td>\n",
              "      <td>1.000000e+00</td>\n",
              "    </tr>\n",
              "    <tr>\n",
              "      <th>25%</th>\n",
              "      <td>7.494795e+05</td>\n",
              "      <td>2.300000e+02</td>\n",
              "      <td>5.118110e+02</td>\n",
              "    </tr>\n",
              "    <tr>\n",
              "      <th>50%</th>\n",
              "      <td>1.499558e+06</td>\n",
              "      <td>2.916000e+03</td>\n",
              "      <td>6.630000e+02</td>\n",
              "    </tr>\n",
              "    <tr>\n",
              "      <th>75%</th>\n",
              "      <td>2.250664e+06</td>\n",
              "      <td>6.403000e+03</td>\n",
              "      <td>1.062992e+03</td>\n",
              "    </tr>\n",
              "    <tr>\n",
              "      <th>max</th>\n",
              "      <td>2.999999e+06</td>\n",
              "      <td>1.342000e+04</td>\n",
              "      <td>1.885801e+09</td>\n",
              "    </tr>\n",
              "  </tbody>\n",
              "</table>\n",
              "</div>"
            ],
            "text/plain": [
              "         PRODUCT_ID  PRODUCT_TYPE_ID  PRODUCT_LENGTH\n",
              "count  2.249698e+06     2.249698e+06    2.249698e+06\n",
              "mean   1.499795e+06     4.000456e+03    4.071839e+03\n",
              "std    8.661944e+05     3.966146e+03    1.351685e+06\n",
              "min    1.000000e+00     0.000000e+00    1.000000e+00\n",
              "25%    7.494795e+05     2.300000e+02    5.118110e+02\n",
              "50%    1.499558e+06     2.916000e+03    6.630000e+02\n",
              "75%    2.250664e+06     6.403000e+03    1.062992e+03\n",
              "max    2.999999e+06     1.342000e+04    1.885801e+09"
            ]
          },
          "execution_count": 37,
          "metadata": {},
          "output_type": "execute_result"
        }
      ],
      "source": [
        "train_data.describe()"
      ]
    },
    {
      "cell_type": "code",
      "execution_count": 39,
      "metadata": {},
      "outputs": [],
      "source": [
        "sns.histplot(train_data['PRODUCT_LENGTH'])\n",
        "plt.show()"
      ]
    },
    {
      "cell_type": "code",
      "execution_count": 11,
      "metadata": {},
      "outputs": [
        {
          "data": {
            "image/png": "[encoded data removed]",
            "text/plain": [
              "<Figure size 432x288 with 1 Axes>"
            ]
          },
          "metadata": {
            "needs_background": "light"
          },
          "output_type": "display_data"
        }
      ],
      "source": [
        "for col in ['PRODUCT_TYPE_ID']:\n",
        "    sns.countplot(x=col, data=train_data)\n",
        "    plt.show()"
      ]
    },
    {
      "attachments": {},
      "cell_type": "markdown",
      "metadata": {
        "id": "Sj3GCUXDcfrG"
      },
      "source": [
        "# Data Preprocessing"
      ]
    },
    {
      "cell_type": "code",
      "execution_count": 14,
      "metadata": {
        "colab": {
          "base_uri": "https://localhost:8080/",
          "height": 1735
        },
        "id": "7n-ewXbMlYOI",
        "outputId": "f7940b34-634d-434b-fef5-4be1c42a7ddb"
      },
      "outputs": [
        {
          "data": {
            "text/html": [
              "<div>\n",
              "<style scoped>\n",
              "    .dataframe tbody tr th:only-of-type {\n",
              "        vertical-align: middle;\n",
              "    }\n",
              "\n",
              "    .dataframe tbody tr th {\n",
              "        vertical-align: top;\n",
              "    }\n",
              "\n",
              "    .dataframe thead th {\n",
              "        text-align: right;\n",
              "    }\n",
              "</style>\n",
              "<table border=\"1\" class=\"dataframe\">\n",
              "  <thead>\n",
              "    <tr style=\"text-align: right;\">\n",
              "      <th></th>\n",
              "      <th>PRODUCT_ID</th>\n",
              "      <th>TITLE</th>\n",
              "      <th>BULLET_POINTS</th>\n",
              "      <th>DESCRIPTION</th>\n",
              "      <th>PRODUCT_TYPE_ID</th>\n",
              "      <th>PRODUCT_LENGTH</th>\n",
              "    </tr>\n",
              "  </thead>\n",
              "  <tbody>\n",
              "    <tr>\n",
              "      <th>2</th>\n",
              "      <td>2765088</td>\n",
              "      <td>PRIKNIK Horn Red Electric Air Horn Compressor ...</td>\n",
              "      <td>[Loud Dual Tone Trumpet Horn, Compatible With ...</td>\n",
              "      <td>Specifications: Color: Red, Material: Aluminiu...</td>\n",
              "      <td>7537</td>\n",
              "      <td>748.031495</td>\n",
              "    </tr>\n",
              "    <tr>\n",
              "      <th>3</th>\n",
              "      <td>1594019</td>\n",
              "      <td>ALISHAH Women's Cotton Ankle Length Leggings C...</td>\n",
              "      <td>[Made By 95%cotton and 5% Lycra which gives yo...</td>\n",
              "      <td>AISHAH Women's Lycra Cotton Ankel Leggings. Br...</td>\n",
              "      <td>2996</td>\n",
              "      <td>787.401574</td>\n",
              "    </tr>\n",
              "    <tr>\n",
              "      <th>5</th>\n",
              "      <td>2152929</td>\n",
              "      <td>HINS Metal Bucket Shape Plant Pot for Indoor &amp;...</td>\n",
              "      <td>[Simple and elegant, great for displaying indo...</td>\n",
              "      <td>HINS Brings you the most Elegant Looking Pot w...</td>\n",
              "      <td>5725</td>\n",
              "      <td>950.000000</td>\n",
              "    </tr>\n",
              "    <tr>\n",
              "      <th>7</th>\n",
              "      <td>2026580</td>\n",
              "      <td>Delavala Self Adhesive Kitchen Backsplash Wall...</td>\n",
              "      <td>[HIGH QUALITY PVC MATERIAL: The kitchen alumin...</td>\n",
              "      <td>&lt;p&gt;&lt;strong&gt;Aluminum Foil Stickers-good kitchen...</td>\n",
              "      <td>6030</td>\n",
              "      <td>984.251967</td>\n",
              "    </tr>\n",
              "    <tr>\n",
              "      <th>9</th>\n",
              "      <td>2998633</td>\n",
              "      <td>Hexwell Essential oil for Home Fragrance Oil A...</td>\n",
              "      <td>[100% Pure And Natural Essential Oil Or Fragra...</td>\n",
              "      <td>Transform your home, workplace or hotel room i...</td>\n",
              "      <td>8201</td>\n",
              "      <td>393.700787</td>\n",
              "    </tr>\n",
              "  </tbody>\n",
              "</table>\n",
              "</div>"
            ],
            "text/plain": [
              "   PRODUCT_ID                                              TITLE  \\\n",
              "2     2765088  PRIKNIK Horn Red Electric Air Horn Compressor ...   \n",
              "3     1594019  ALISHAH Women's Cotton Ankle Length Leggings C...   \n",
              "5     2152929  HINS Metal Bucket Shape Plant Pot for Indoor &...   \n",
              "7     2026580  Delavala Self Adhesive Kitchen Backsplash Wall...   \n",
              "9     2998633  Hexwell Essential oil for Home Fragrance Oil A...   \n",
              "\n",
              "                                       BULLET_POINTS  \\\n",
              "2  [Loud Dual Tone Trumpet Horn, Compatible With ...   \n",
              "3  [Made By 95%cotton and 5% Lycra which gives yo...   \n",
              "5  [Simple and elegant, great for displaying indo...   \n",
              "7  [HIGH QUALITY PVC MATERIAL: The kitchen alumin...   \n",
              "9  [100% Pure And Natural Essential Oil Or Fragra...   \n",
              "\n",
              "                                         DESCRIPTION  PRODUCT_TYPE_ID  \\\n",
              "2  Specifications: Color: Red, Material: Aluminiu...             7537   \n",
              "3  AISHAH Women's Lycra Cotton Ankel Leggings. Br...             2996   \n",
              "5  HINS Brings you the most Elegant Looking Pot w...             5725   \n",
              "7  <p><strong>Aluminum Foil Stickers-good kitchen...             6030   \n",
              "9  Transform your home, workplace or hotel room i...             8201   \n",
              "\n",
              "   PRODUCT_LENGTH  \n",
              "2      748.031495  \n",
              "3      787.401574  \n",
              "5      950.000000  \n",
              "7      984.251967  \n",
              "9      393.700787  "
            ]
          },
          "execution_count": 14,
          "metadata": {},
          "output_type": "execute_result"
        }
      ],
      "source": [
        "train_data.head()"
      ]
    },
    {
      "cell_type": "code",
      "execution_count": 38,
      "metadata": {
        "colab": {
          "base_uri": "https://localhost:8080/"
        },
        "id": "BbDiZfGFlcei",
        "outputId": "ffcde1fc-53e2-4d3d-d4f7-2300c5dbabba"
      },
      "outputs": [
        {
          "data": {
            "text/plain": [
              "(2249698, 6)"
            ]
          },
          "execution_count": 38,
          "metadata": {},
          "output_type": "execute_result"
        }
      ],
      "source": [
        "train_data.shape"
      ]
    },
    {
      "attachments": {},
      "cell_type": "markdown",
      "metadata": {
        "id": "_qfq8KRVmi9z"
      },
      "source": [
        "## Preprocessing the Product Desciption Column"
      ]
    },
    {
      "cell_type": "code",
      "execution_count": 42,
      "metadata": {
        "id": "j3dN0NGAmoPA"
      },
      "outputs": [],
      "source": [
        "import re\n",
        "import string\n",
        "import nltk\n",
        "from nltk.corpus import stopwords\n",
        "from nltk.tokenize import word_tokenize\n",
        "from nltk.stem import WordNetLemmatizer"
      ]
    },
    {
      "cell_type": "code",
      "execution_count": null,
      "metadata": {
        "colab": {
          "base_uri": "https://localhost:8080/"
        },
        "id": "T32Fi_jSnEQJ",
        "outputId": "14fe2b53-f8d9-4865-ef31-9498a189c25a"
      },
      "outputs": [],
      "source": [
        "#nltk.download('punkt')\n",
        "#nltk.download('stopwords')\n",
        "#nltk.download('wordnet')\n",
        "#nltk.download('omw-1.4')"
      ]
    },
    {
      "cell_type": "code",
      "execution_count": 43,
      "metadata": {
        "id": "f-HPrf50mr1P"
      },
      "outputs": [],
      "source": [
        "def preprocess_text(text):\n",
        "    # convert text to lowercase\n",
        "    text = text.lower()\n",
        "    \n",
        "    # remove HTML tags\n",
        "    text = re.sub('<.*?>', '', text)\n",
        "    \n",
        "    # remove punctuation\n",
        "    text = text.translate(str.maketrans('', '', string.punctuation))\n",
        "    \n",
        "    # tokenize the text\n",
        "    tokens = word_tokenize(text)\n",
        "    \n",
        "    # remove stopwords\n",
        "    stop_words = set(stopwords.words('english'))\n",
        "    tokens = [word for word in tokens if word not in stop_words]\n",
        "    \n",
        "    # lemmatize the tokens\n",
        "    lemmatizer = WordNetLemmatizer()\n",
        "    tokens = [lemmatizer.lemmatize(word) for word in tokens]\n",
        "    \n",
        "    # join the tokens back into a string\n",
        "    text = ' '.join(tokens)\n",
        "    \n",
        "    return text"
      ]
    },
    {
      "cell_type": "code",
      "execution_count": 44,
      "metadata": {},
      "outputs": [],
      "source": [
        "from tqdm import tqdm"
      ]
    },
    {
      "cell_type": "code",
      "execution_count": 48,
      "metadata": {},
      "outputs": [
        {
          "name": "stderr",
          "output_type": "stream",
          "text": [
            "100%|██████████| 2249698/2249698 [13:07<00:00, 2854.99it/s]\n"
          ]
        }
      ],
      "source": [
        "total_iterations = len(train_data['TITLE'])\n",
        "\n",
        "for i, text in tqdm(enumerate(train_data['TITLE']), total=total_iterations):\n",
        "    preprocessed_text = preprocess_text(text)\n",
        "    train_data.at[i, 'TITLE'] = preprocessed_text\n"
      ]
    },
    {
      "cell_type": "code",
      "execution_count": 49,
      "metadata": {},
      "outputs": [],
      "source": [
        "train_data.to_csv('processed_traindata_title.csv', index=False)"
      ]
    },
    {
      "cell_type": "code",
      "execution_count": 50,
      "metadata": {},
      "outputs": [
        {
          "data": {
            "text/plain": [
              "<bound method NDFrame.head of 0          artzfolio tulip flower blackout curtain door w...\n",
              "1          mark spencer girl pyjama set t862561cnavy mix910y\n",
              "2          priknik horn red electric air horn compressor ...\n",
              "3          alishah woman cotton ankle length legging comb...\n",
              "4           united empire loyalist chronicle great migration\n",
              "                                 ...                        \n",
              "2249693    nike woman w ny df swsh hn kh bra cz7610010bla...\n",
              "2249694    3pcs goose game cute cartoon enamel pin funny ...\n",
              "2249695    kangroo sweep movement printed wooden wall clo...\n",
              "2249696    electro voice ekxbrkt15 wall mount bracket ekx...\n",
              "2249697    skyjacker c7360sp component box pnc7360pk 4 li...\n",
              "Name: TITLE, Length: 2249698, dtype: object>"
            ]
          },
          "execution_count": 50,
          "metadata": {},
          "output_type": "execute_result"
        }
      ],
      "source": [
        "train_data['TITLE'].head"
      ]
    },
    {
      "cell_type": "code",
      "execution_count": 53,
      "metadata": {},
      "outputs": [],
      "source": [
        "#pip install transformers"
      ]
    },
    {
      "cell_type": "code",
      "execution_count": 54,
      "metadata": {},
      "outputs": [
        {
          "name": "stderr",
          "output_type": "stream",
          "text": [
            "c:\\Users\\rctuh\\AppData\\Local\\Programs\\Python\\Python310\\lib\\site-packages\\tqdm\\auto.py:22: TqdmWarning: IProgress not found. Please update jupyter and ipywidgets. See https://ipywidgets.readthedocs.io/en/stable/user_install.html\n",
            "  from .autonotebook import tqdm as notebook_tqdm\n",
            "Downloading (…)solve/main/vocab.txt: 100%|██████████| 232k/232k [00:00<00:00, 9.07MB/s]\n",
            "Downloading (…)okenizer_config.json: 100%|██████████| 28.0/28.0 [00:00<00:00, 14.0kB/s]\n",
            "Downloading (…)lve/main/config.json: 100%|██████████| 570/570 [00:00<00:00, 189kB/s]\n"
          ]
        },
        {
          "name": "stdout",
          "output_type": "stream",
          "text": [
            "Collecting transformers\n",
            "  Using cached transformers-4.28.1-py3-none-any.whl (7.0 MB)\n",
            "Requirement already satisfied: numpy>=1.17 in c:\\users\\rctuh\\anaconda3\\lib\\site-packages (from transformers) (1.23.5)\n",
            "Requirement already satisfied: tqdm>=4.27 in c:\\users\\rctuh\\anaconda3\\lib\\site-packages (from transformers) (4.64.1)\n",
            "Requirement already satisfied: filelock in c:\\users\\rctuh\\anaconda3\\lib\\site-packages (from transformers) (3.6.0)\n",
            "Requirement already satisfied: requests in c:\\users\\rctuh\\anaconda3\\lib\\site-packages (from transformers) (2.28.1)\n",
            "Requirement already satisfied: packaging>=20.0 in c:\\users\\rctuh\\anaconda3\\lib\\site-packages (from transformers) (21.3)\n",
            "Requirement already satisfied: regex!=2019.12.17 in c:\\users\\rctuh\\anaconda3\\lib\\site-packages (from transformers) (2022.7.9)\n",
            "Collecting tokenizers!=0.11.3,<0.14,>=0.11.1\n",
            "  Downloading tokenizers-0.13.3-cp39-cp39-win_amd64.whl (3.5 MB)\n",
            "     ---------------------------------------- 3.5/3.5 MB 6.7 MB/s eta 0:00:00\n",
            "Requirement already satisfied: pyyaml>=5.1 in c:\\users\\rctuh\\anaconda3\\lib\\site-packages (from transformers) (6.0)\n",
            "Collecting huggingface-hub<1.0,>=0.11.0\n",
            "  Using cached huggingface_hub-0.13.4-py3-none-any.whl (200 kB)\n",
            "Requirement already satisfied: typing-extensions>=3.7.4.3 in c:\\users\\rctuh\\anaconda3\\lib\\site-packages (from huggingface-hub<1.0,>=0.11.0->transformers) (4.3.0)\n",
            "Requirement already satisfied: pyparsing!=3.0.5,>=2.0.2 in c:\\users\\rctuh\\anaconda3\\lib\\site-packages (from packaging>=20.0->transformers) (3.0.9)\n",
            "Requirement already satisfied: colorama in c:\\users\\rctuh\\anaconda3\\lib\\site-packages (from tqdm>=4.27->transformers) (0.4.5)\n",
            "Requirement already satisfied: charset-normalizer<3,>=2 in c:\\users\\rctuh\\anaconda3\\lib\\site-packages (from requests->transformers) (2.0.4)\n",
            "Requirement already satisfied: idna<4,>=2.5 in c:\\users\\rctuh\\anaconda3\\lib\\site-packages (from requests->transformers) (3.3)\n",
            "Requirement already satisfied: urllib3<1.27,>=1.21.1 in c:\\users\\rctuh\\anaconda3\\lib\\site-packages (from requests->transformers) (1.26.11)\n",
            "Requirement already satisfied: certifi>=2017.4.17 in c:\\users\\rctuh\\anaconda3\\lib\\site-packages (from requests->transformers) (2022.9.14)\n",
            "Installing collected packages: tokenizers, huggingface-hub, transformers\n",
            "Successfully installed huggingface-hub-0.13.4 tokenizers-0.13.3 transformers-4.28.1\n"
          ]
        },
        {
          "name": "stderr",
          "output_type": "stream",
          "text": [
            "Token indices sequence length is longer than the specified maximum sequence length for this model (741 > 512). Running this sequence through the model will result in indexing errors\n"
          ]
        }
      ],
      "source": [
        "from transformers import BertTokenizer\n",
        "\n",
        "# Load pre-trained BERT tokenizer\n",
        "tokenizer = BertTokenizer.from_pretrained('bert-base-uncased')\n",
        "\n",
        "\n",
        "# Preprocess bullet_points column using BERT tokenizer\n",
        "train_data['BULLET_POINTS'] = train_data['BULLET_POINTS'].apply(lambda x: tokenizer.encode(x, add_special_tokens=True))\n"
      ]
    },
    {
      "cell_type": "code",
      "execution_count": 55,
      "metadata": {},
      "outputs": [],
      "source": [
        "train_data.to_csv('processed_train_bulletpoints_title.csv', index=False)"
      ]
    },
    {
      "cell_type": "code",
      "execution_count": 57,
      "metadata": {},
      "outputs": [
        {
          "data": {
            "text/plain": [
              "0          [101, 1031, 20783, 1004, 16004, 1024, 3376, 76...\n",
              "1          [101, 1031, 4302, 10693, 2002, 2094, 16279, 10...\n",
              "2          [101, 1031, 5189, 7037, 4309, 9368, 7109, 1010...\n",
              "3          [101, 1031, 2081, 2011, 5345, 1003, 6557, 1998...\n",
              "4                                                 [101, 102]\n",
              "                                 ...                        \n",
              "2249693                 [101, 3430, 1024, 26572, 20367, 102]\n",
              "2249694    [101, 1031, 100, 1031, 7780, 1033, 4427, 2011,...\n",
              "2249695    [101, 1031, 13764, 2946, 1024, 2260, 5282, 199...\n",
              "2249696                                           [101, 102]\n",
              "2249697    [101, 1031, 6922, 3482, 2005, 1052, 2078, 1031...\n",
              "Name: BULLET_POINTS, Length: 2249698, dtype: object"
            ]
          },
          "execution_count": 57,
          "metadata": {},
          "output_type": "execute_result"
        }
      ],
      "source": [
        "train_data['BULLET_POINTS']"
      ]
    },
    {
      "cell_type": "code",
      "execution_count": null,
      "metadata": {
        "id": "vc5R_DQxmvGb"
      },
      "outputs": [],
      "source": [
        "#old code\n",
        "##train_data['DESCRIPTION'] = train_data['DESCRIPTION'].apply(preprocess_text)"
      ]
    },
    {
      "cell_type": "code",
      "execution_count": 58,
      "metadata": {},
      "outputs": [
        {
          "name": "stdout",
          "output_type": "stream",
          "text": [
            "0                                                     \n",
            "1                                                     \n",
            "2    Specifications: Color: Red, Material: Aluminiu...\n",
            "3    AISHAH Women's Lycra Cotton Ankel Leggings. Br...\n",
            "4                                                     \n",
            "Name: DESCRIPTION, dtype: object\n"
          ]
        }
      ],
      "source": [
        "print(train_data['DESCRIPTION'].head())"
      ]
    },
    {
      "cell_type": "code",
      "execution_count": 22,
      "metadata": {},
      "outputs": [
        {
          "data": {
            "text/html": [
              "<div>\n",
              "<style scoped>\n",
              "    .dataframe tbody tr th:only-of-type {\n",
              "        vertical-align: middle;\n",
              "    }\n",
              "\n",
              "    .dataframe tbody tr th {\n",
              "        vertical-align: top;\n",
              "    }\n",
              "\n",
              "    .dataframe thead th {\n",
              "        text-align: right;\n",
              "    }\n",
              "</style>\n",
              "<table border=\"1\" class=\"dataframe\">\n",
              "  <thead>\n",
              "    <tr style=\"text-align: right;\">\n",
              "      <th></th>\n",
              "      <th>PRODUCT_ID</th>\n",
              "      <th>TITLE</th>\n",
              "      <th>BULLET_POINTS</th>\n",
              "      <th>DESCRIPTION</th>\n",
              "      <th>PRODUCT_TYPE_ID</th>\n",
              "      <th>PRODUCT_LENGTH</th>\n",
              "    </tr>\n",
              "  </thead>\n",
              "  <tbody>\n",
              "    <tr>\n",
              "      <th>2</th>\n",
              "      <td>2765088</td>\n",
              "      <td>PRIKNIK Horn Red Electric Air Horn Compressor ...</td>\n",
              "      <td>[Loud Dual Tone Trumpet Horn, Compatible With ...</td>\n",
              "      <td>Specifications: Color: Red, Material: Aluminiu...</td>\n",
              "      <td>7537</td>\n",
              "      <td>748.031495</td>\n",
              "    </tr>\n",
              "    <tr>\n",
              "      <th>3</th>\n",
              "      <td>1594019</td>\n",
              "      <td>ALISHAH Women's Cotton Ankle Length Leggings C...</td>\n",
              "      <td>[Made By 95%cotton and 5% Lycra which gives yo...</td>\n",
              "      <td>AISHAH Women's Lycra Cotton Ankel Leggings. Br...</td>\n",
              "      <td>2996</td>\n",
              "      <td>787.401574</td>\n",
              "    </tr>\n",
              "    <tr>\n",
              "      <th>5</th>\n",
              "      <td>2152929</td>\n",
              "      <td>HINS Metal Bucket Shape Plant Pot for Indoor &amp;...</td>\n",
              "      <td>[Simple and elegant, great for displaying indo...</td>\n",
              "      <td>HINS Brings you the most Elegant Looking Pot w...</td>\n",
              "      <td>5725</td>\n",
              "      <td>950.000000</td>\n",
              "    </tr>\n",
              "    <tr>\n",
              "      <th>7</th>\n",
              "      <td>2026580</td>\n",
              "      <td>Delavala Self Adhesive Kitchen Backsplash Wall...</td>\n",
              "      <td>[HIGH QUALITY PVC MATERIAL: The kitchen alumin...</td>\n",
              "      <td>&lt;p&gt;&lt;strong&gt;Aluminum Foil Stickers-good kitchen...</td>\n",
              "      <td>6030</td>\n",
              "      <td>984.251967</td>\n",
              "    </tr>\n",
              "    <tr>\n",
              "      <th>9</th>\n",
              "      <td>2998633</td>\n",
              "      <td>Hexwell Essential oil for Home Fragrance Oil A...</td>\n",
              "      <td>[100% Pure And Natural Essential Oil Or Fragra...</td>\n",
              "      <td>Transform your home, workplace or hotel room i...</td>\n",
              "      <td>8201</td>\n",
              "      <td>393.700787</td>\n",
              "    </tr>\n",
              "  </tbody>\n",
              "</table>\n",
              "</div>"
            ],
            "text/plain": [
              "   PRODUCT_ID                                              TITLE  \\\n",
              "2     2765088  PRIKNIK Horn Red Electric Air Horn Compressor ...   \n",
              "3     1594019  ALISHAH Women's Cotton Ankle Length Leggings C...   \n",
              "5     2152929  HINS Metal Bucket Shape Plant Pot for Indoor &...   \n",
              "7     2026580  Delavala Self Adhesive Kitchen Backsplash Wall...   \n",
              "9     2998633  Hexwell Essential oil for Home Fragrance Oil A...   \n",
              "\n",
              "                                       BULLET_POINTS  \\\n",
              "2  [Loud Dual Tone Trumpet Horn, Compatible With ...   \n",
              "3  [Made By 95%cotton and 5% Lycra which gives yo...   \n",
              "5  [Simple and elegant, great for displaying indo...   \n",
              "7  [HIGH QUALITY PVC MATERIAL: The kitchen alumin...   \n",
              "9  [100% Pure And Natural Essential Oil Or Fragra...   \n",
              "\n",
              "                                         DESCRIPTION  PRODUCT_TYPE_ID  \\\n",
              "2  Specifications: Color: Red, Material: Aluminiu...             7537   \n",
              "3  AISHAH Women's Lycra Cotton Ankel Leggings. Br...             2996   \n",
              "5  HINS Brings you the most Elegant Looking Pot w...             5725   \n",
              "7  <p><strong>Aluminum Foil Stickers-good kitchen...             6030   \n",
              "9  Transform your home, workplace or hotel room i...             8201   \n",
              "\n",
              "   PRODUCT_LENGTH  \n",
              "2      748.031495  \n",
              "3      787.401574  \n",
              "5      950.000000  \n",
              "7      984.251967  \n",
              "9      393.700787  "
            ]
          },
          "execution_count": 22,
          "metadata": {},
          "output_type": "execute_result"
        }
      ],
      "source": [
        "train_data.head()"
      ]
    },
    {
      "cell_type": "code",
      "execution_count": 23,
      "metadata": {},
      "outputs": [
        {
          "data": {
            "text/plain": [
              "Index(['PRODUCT_ID', 'TITLE', 'BULLET_POINTS', 'DESCRIPTION',\n",
              "       'PRODUCT_TYPE_ID', 'PRODUCT_LENGTH'],\n",
              "      dtype='object')"
            ]
          },
          "execution_count": 23,
          "metadata": {},
          "output_type": "execute_result"
        }
      ],
      "source": [
        "train_data.columns"
      ]
    },
    {
      "cell_type": "code",
      "execution_count": 59,
      "metadata": {},
      "outputs": [],
      "source": [
        "# Preprocess bullet_points column using BERT tokenizer\n",
        "train_data['DESCRIPTION'] = train_data['DESCRIPTION'].apply(lambda x: tokenizer.encode(x, add_special_tokens=True))"
      ]
    },
    {
      "cell_type": "code",
      "execution_count": 60,
      "metadata": {},
      "outputs": [],
      "source": [
        "# Preprocess bullet_points column using BERT tokenizer\n",
        "train_data['TITLE'] = train_data['TITLE'].apply(lambda x: tokenizer.encode(x, add_special_tokens=True))"
      ]
    },
    {
      "cell_type": "code",
      "execution_count": 62,
      "metadata": {},
      "outputs": [
        {
          "data": {
            "text/plain": [
              "<bound method NDFrame.head of          PRODUCT_ID                                              TITLE  \\\n",
              "0           1925202  [101, 2396, 2480, 14876, 12798, 10722, 15000, ...   \n",
              "1           2673191  [101, 2928, 7084, 2611, 1052, 2100, 3900, 2863...   \n",
              "2           2765088  [101, 26927, 2243, 8238, 7109, 2417, 3751, 225...   \n",
              "3           1594019  [101, 4862, 25611, 2450, 6557, 10792, 3091, 41...   \n",
              "4            283658    [101, 2142, 3400, 23414, 9519, 2307, 9230, 102]   \n",
              "...             ...                                                ...   \n",
              "2249693     2422167  [101, 18368, 2450, 1059, 6396, 1040, 2546, 254...   \n",
              "2249694     2766635  [101, 1017, 15042, 2015, 13020, 2208, 10140, 9...   \n",
              "2249695     1987786  [101, 16073, 3217, 2080, 11740, 2929, 6267, 47...   \n",
              "2249696     1165754  [101, 16175, 2376, 23969, 2595, 19892, 25509, ...   \n",
              "2249697     1072666  [101, 3712, 17364, 2121, 1039, 2581, 21619, 16...   \n",
              "\n",
              "                                             BULLET_POINTS  \\\n",
              "0        [101, 1031, 20783, 1004, 16004, 1024, 3376, 76...   \n",
              "1        [101, 1031, 4302, 10693, 2002, 2094, 16279, 10...   \n",
              "2        [101, 1031, 5189, 7037, 4309, 9368, 7109, 1010...   \n",
              "3        [101, 1031, 2081, 2011, 5345, 1003, 6557, 1998...   \n",
              "4                                               [101, 102]   \n",
              "...                                                    ...   \n",
              "2249693               [101, 3430, 1024, 26572, 20367, 102]   \n",
              "2249694  [101, 1031, 100, 1031, 7780, 1033, 4427, 2011,...   \n",
              "2249695  [101, 1031, 13764, 2946, 1024, 2260, 5282, 199...   \n",
              "2249696                                         [101, 102]   \n",
              "2249697  [101, 1031, 6922, 3482, 2005, 1052, 2078, 1031...   \n",
              "\n",
              "                                               DESCRIPTION  PRODUCT_TYPE_ID  \\\n",
              "0                                               [101, 102]             1650   \n",
              "1                                               [101, 102]             2755   \n",
              "2        [101, 15480, 1024, 3609, 1024, 2417, 1010, 343...             7537   \n",
              "3        [101, 9932, 25611, 2308, 1005, 1055, 1048, 210...             2996   \n",
              "4                                               [101, 102]             6112   \n",
              "...                                                    ...              ...   \n",
              "2249693                                         [101, 102]             3009   \n",
              "2249694  [101, 1026, 1052, 1028, 1026, 1038, 1028, 1031...             3413   \n",
              "2249695  [101, 2813, 20940, 2024, 2200, 8702, 1999, 350...             1574   \n",
              "2249696                                         [101, 102]              592   \n",
              "2249697  [101, 3712, 17364, 2121, 1039, 2581, 21619, 16...             7367   \n",
              "\n",
              "         PRODUCT_LENGTH  \n",
              "0           2125.980000  \n",
              "1            393.700000  \n",
              "2            748.031495  \n",
              "3            787.401574  \n",
              "4            598.424000  \n",
              "...                 ...  \n",
              "2249693     1181.100000  \n",
              "2249694      125.984252  \n",
              "2249695     1200.000000  \n",
              "2249696     2900.000000  \n",
              "2249697     2000.000000  \n",
              "\n",
              "[2249698 rows x 6 columns]>"
            ]
          },
          "execution_count": 62,
          "metadata": {},
          "output_type": "execute_result"
        }
      ],
      "source": [
        "train_data.head"
      ]
    },
    {
      "cell_type": "code",
      "execution_count": 63,
      "metadata": {},
      "outputs": [],
      "source": [
        "train_data.to_csv('processed_train_except_product_length.csv', index=False)"
      ]
    },
    {
      "cell_type": "code",
      "execution_count": 61,
      "metadata": {},
      "outputs": [
        {
          "data": {
            "text/plain": [
              "<bound method NDFrame.head of          PRODUCT_ID                                              TITLE  \\\n",
              "0           1925202  [101, 2396, 2480, 14876, 12798, 10722, 15000, ...   \n",
              "1           2673191  [101, 2928, 7084, 2611, 1052, 2100, 3900, 2863...   \n",
              "2           2765088  [101, 26927, 2243, 8238, 7109, 2417, 3751, 225...   \n",
              "3           1594019  [101, 4862, 25611, 2450, 6557, 10792, 3091, 41...   \n",
              "4            283658    [101, 2142, 3400, 23414, 9519, 2307, 9230, 102]   \n",
              "...             ...                                                ...   \n",
              "2249693     2422167  [101, 18368, 2450, 1059, 6396, 1040, 2546, 254...   \n",
              "2249694     2766635  [101, 1017, 15042, 2015, 13020, 2208, 10140, 9...   \n",
              "2249695     1987786  [101, 16073, 3217, 2080, 11740, 2929, 6267, 47...   \n",
              "2249696     1165754  [101, 16175, 2376, 23969, 2595, 19892, 25509, ...   \n",
              "2249697     1072666  [101, 3712, 17364, 2121, 1039, 2581, 21619, 16...   \n",
              "\n",
              "                                             BULLET_POINTS  \\\n",
              "0        [101, 1031, 20783, 1004, 16004, 1024, 3376, 76...   \n",
              "1        [101, 1031, 4302, 10693, 2002, 2094, 16279, 10...   \n",
              "2        [101, 1031, 5189, 7037, 4309, 9368, 7109, 1010...   \n",
              "3        [101, 1031, 2081, 2011, 5345, 1003, 6557, 1998...   \n",
              "4                                               [101, 102]   \n",
              "...                                                    ...   \n",
              "2249693               [101, 3430, 1024, 26572, 20367, 102]   \n",
              "2249694  [101, 1031, 100, 1031, 7780, 1033, 4427, 2011,...   \n",
              "2249695  [101, 1031, 13764, 2946, 1024, 2260, 5282, 199...   \n",
              "2249696                                         [101, 102]   \n",
              "2249697  [101, 1031, 6922, 3482, 2005, 1052, 2078, 1031...   \n",
              "\n",
              "                                               DESCRIPTION  PRODUCT_TYPE_ID  \\\n",
              "0                                               [101, 102]             1650   \n",
              "1                                               [101, 102]             2755   \n",
              "2        [101, 15480, 1024, 3609, 1024, 2417, 1010, 343...             7537   \n",
              "3        [101, 9932, 25611, 2308, 1005, 1055, 1048, 210...             2996   \n",
              "4                                               [101, 102]             6112   \n",
              "...                                                    ...              ...   \n",
              "2249693                                         [101, 102]             3009   \n",
              "2249694  [101, 1026, 1052, 1028, 1026, 1038, 1028, 1031...             3413   \n",
              "2249695  [101, 2813, 20940, 2024, 2200, 8702, 1999, 350...             1574   \n",
              "2249696                                         [101, 102]              592   \n",
              "2249697  [101, 3712, 17364, 2121, 1039, 2581, 21619, 16...             7367   \n",
              "\n",
              "         PRODUCT_LENGTH  \n",
              "0           2125.980000  \n",
              "1            393.700000  \n",
              "2            748.031495  \n",
              "3            787.401574  \n",
              "4            598.424000  \n",
              "...                 ...  \n",
              "2249693     1181.100000  \n",
              "2249694      125.984252  \n",
              "2249695     1200.000000  \n",
              "2249696     2900.000000  \n",
              "2249697     2000.000000  \n",
              "\n",
              "[2249698 rows x 6 columns]>"
            ]
          },
          "execution_count": 61,
          "metadata": {},
          "output_type": "execute_result"
        }
      ],
      "source": [
        "train_data.head"
      ]
    },
    {
      "attachments": {},
      "cell_type": "markdown",
      "metadata": {},
      "source": [
        "# Renaming the Columns \n",
        "### Just a cosmetic change"
      ]
    },
    {
      "cell_type": "code",
      "execution_count": 24,
      "metadata": {},
      "outputs": [],
      "source": [
        "#train_data = train_data.rename(columns={'PRODUCT_ID': 'product_id', 'TITLE': 'title', 'BULLET_POINTS': 'bullet_points', 'DESCRIPTION': 'description', 'PRODUCT_TYPE_ID': 'product_type_id', 'PRODUCT_LENGTH': 'product_length'})"
      ]
    },
    {
      "cell_type": "code",
      "execution_count": 25,
      "metadata": {},
      "outputs": [
        {
          "data": {
            "text/plain": [
              "Index(['product_id', 'title', 'bullet_points', 'description',\n",
              "       'product_type_id', 'product_length'],\n",
              "      dtype='object')"
            ]
          },
          "execution_count": 25,
          "metadata": {},
          "output_type": "execute_result"
        }
      ],
      "source": [
        "#train_data.columns"
      ]
    },
    {
      "attachments": {},
      "cell_type": "markdown",
      "metadata": {},
      "source": [
        "# Preprocessing the bullet points"
      ]
    },
    {
      "cell_type": "code",
      "execution_count": 27,
      "metadata": {},
      "outputs": [],
      "source": [
        "#pip install autocorrect"
      ]
    },
    {
      "cell_type": "code",
      "execution_count": 28,
      "metadata": {},
      "outputs": [],
      "source": [
        "#from nltk.stem import WordNetLemmatizer, SnowballStemmer\n",
        "#from autocorrect import Speller"
      ]
    },
    {
      "cell_type": "code",
      "execution_count": 29,
      "metadata": {},
      "outputs": [],
      "source": [
        "#import multiprocessing"
      ]
    },
    {
      "cell_type": "code",
      "execution_count": 30,
      "metadata": {},
      "outputs": [],
      "source": [
        "# function to preprocess bullet points\n",
        "''' def preprocess_bp(text):\n",
        "    # convert text to lowercase\n",
        "    text = text.lower()\n",
        "\n",
        "    # remove HTML tags\n",
        "    text = re.sub('<.*?>', '', text)\n",
        "\n",
        "    # remove URLs and email addresses\n",
        "    text = re.sub(r'\\S+@\\S+', '', text)\n",
        "    text = re.sub(r'http\\S+', '', text)\n",
        "\n",
        "    # remove non-alphanumeric characters\n",
        "    text = re.sub(r'[^a-zA-Z0-9\\s]', '', text)\n",
        "\n",
        "    # tokenize the text\n",
        "    tokens = word_tokenize(text)\n",
        "\n",
        "    # remove stopwords\n",
        "    stop_words = set(stopwords.words('english'))\n",
        "    tokens = [word for word in tokens if word not in stop_words]\n",
        "\n",
        "    # spell correction\n",
        "    spell = Speller(lang='en')\n",
        "    tokens = [spell(word) for word in tokens]\n",
        "\n",
        "    # stemming\n",
        "    stemmer = SnowballStemmer('english')\n",
        "    tokens = [stemmer.stem(word) for word in tokens]\n",
        "\n",
        "    # join the tokens back into a string\n",
        "    text = ' '.join(tokens)\n",
        "\n",
        "    return text\n",
        " '''"
      ]
    },
    {
      "cell_type": "code",
      "execution_count": 32,
      "metadata": {},
      "outputs": [],
      "source": [
        "''' # function to preprocess text data in chunks\n",
        "def preprocess_data_in_chunks(data, chunk_size):\n",
        "    # get number of available processors\n",
        "    num_processors = multiprocessing.cpu_count()\n",
        "\n",
        "    # create multiprocessing pool\n",
        "    pool = multiprocessing.Pool(processes=num_processors)\n",
        "\n",
        "    # get number of chunks\n",
        "    num_chunks = int(len(data) / chunk_size) + 1\n",
        "\n",
        "    # process data in chunks\n",
        "    for i in tqdm(range(num_chunks)):\n",
        "        start = i * chunk_size\n",
        "        end = start + chunk_size\n",
        "        chunk_data = data[start:end]\n",
        "        preprocessed_data = pool.map(preprocess_bp, chunk_data)\n",
        "        data[start:end] = preprocessed_data\n",
        "\n",
        "    # close multiprocessing pool\n",
        "    pool.close()\n",
        "\n",
        "    return data\n",
        " '''"
      ]
    },
    {
      "cell_type": "code",
      "execution_count": 33,
      "metadata": {},
      "outputs": [
        {
          "name": "stderr",
          "output_type": "stream",
          "text": [
            "  0%|          | 0/208 [00:00<?, ?it/s]"
          ]
        }
      ],
      "source": [
        "''' # preprocess bullet points in chunks\n",
        "chunk_size = 5000\n",
        "train_data['bullet_points'] = preprocess_data_in_chunks(list(train_data['bullet_points']), chunk_size)\n",
        " '''"
      ]
    },
    {
      "cell_type": "code",
      "execution_count": null,
      "metadata": {},
      "outputs": [
        {
          "data": {
            "text/plain": [
              "2    [Loud Dual Tone Trumpet Horn, Compatible With ...\n",
              "3    [Made By 95%cotton and 5% Lycra which gives yo...\n",
              "5    [Simple and elegant, great for displaying indo...\n",
              "7    [HIGH QUALITY PVC MATERIAL: The kitchen alumin...\n",
              "9    [100% Pure And Natural Essential Oil Or Fragra...\n",
              "Name: bullet_points, dtype: object"
            ]
          },
          "execution_count": 33,
          "metadata": {},
          "output_type": "execute_result"
        }
      ],
      "source": [
        "''' train_data['bullet_points'].head() '''"
      ]
    },
    {
      "cell_type": "code",
      "execution_count": null,
      "metadata": {},
      "outputs": [],
      "source": [
        "#train_data.to_csv('processed_data.csv', index=False)"
      ]
    },
    {
      "cell_type": "code",
      "execution_count": 1,
      "metadata": {},
      "outputs": [
        {
          "ename": "NameError",
          "evalue": "name 'train_data' is not defined",
          "output_type": "error",
          "traceback": [
            "\u001b[1;31m---------------------------------------------------------------------------\u001b[0m",
            "\u001b[1;31mNameError\u001b[0m                                 Traceback (most recent call last)",
            "\u001b[1;32mc:\\Users\\rctuh\\Desktop\\amazon_ml_challenge\\F1_wizards_submission_remote.ipynb Cell 41\u001b[0m in \u001b[0;36m<cell line: 1>\u001b[1;34m()\u001b[0m\n\u001b[1;32m----> <a href='vscode-notebook-cell:/c%3A/Users/rctuh/Desktop/amazon_ml_challenge/F1_wizards_submission_remote.ipynb#X55sZmlsZQ%3D%3D?line=0'>1</a>\u001b[0m train_data\u001b[39m.\u001b[39mhead()\n",
            "\u001b[1;31mNameError\u001b[0m: name 'train_data' is not defined"
          ]
        }
      ],
      "source": [
        "''' train_data.head() '''"
      ]
    },
    {
      "cell_type": "code",
      "execution_count": null,
      "metadata": {},
      "outputs": [],
      "source": [
        "#pip install emoji"
      ]
    },
    {
      "cell_type": "code",
      "execution_count": null,
      "metadata": {},
      "outputs": [],
      "source": [
        "#import emoji"
      ]
    },
    {
      "cell_type": "code",
      "execution_count": null,
      "metadata": {},
      "outputs": [],
      "source": [
        "#from tqdm import tqdm"
      ]
    },
    {
      "cell_type": "code",
      "execution_count": null,
      "metadata": {},
      "outputs": [],
      "source": [
        "''' def remove_emojis(text):\n",
        "    cleaned_text = re.sub(r'@[A-Za-z0-9]+', '', str(text)) # remove @mentions\n",
        "    cleaned_text = re.sub(r'#\\w+', '', cleaned_text) # remove hashtags\n",
        "    cleaned_text = re.sub(r'RT[\\s]+', '', cleaned_text) # remove RT\n",
        "    cleaned_text = re.sub(r'http\\S+', '', cleaned_text) # remove URLs\n",
        "    cleaned_text = re.sub(r'www\\S+', '', cleaned_text) # remove the www\n",
        "    cleaned_text = re.sub(r'twitter+', '', cleaned_text) # remove the twitter\n",
        "    cleaned_text = re.sub(r'pic+', '', cleaned_text) # remove the pic\n",
        "    cleaned_text = re.sub(r'com', '', cleaned_text) # remove the com\n",
        "    emoji_pattern = re.compile(\"[\"\n",
        "                               u\"\\U0001F600-\\U0001F64F\"  # emoticons\n",
        "                               u\"\\U0001F300-\\U0001F5FF\"  # symbols & pictographs\n",
        "                               u\"\\U0001F680-\\U0001F6FF\"  # transport & map symbols\n",
        "                               u\"\\U0001F1E0-\\U0001F1FF\"  # flags (iOS)\n",
        "                               \"]+\", flags=re.UNICODE)\n",
        "    cleaned_text = emoji_pattern.sub(r'', text)\n",
        "    return cleaned_text '''"
      ]
    },
    {
      "cell_type": "code",
      "execution_count": null,
      "metadata": {},
      "outputs": [
        {
          "name": "stderr",
          "output_type": "stream",
          "text": [
            "100%|██████████| 1038460/1038460 [00:20<00:00, 51896.05it/s]\n"
          ]
        }
      ],
      "source": [
        "''' for text in tqdm(train_data['bullet_points']):\n",
        "    processed_text = remove_emojis(text)\n",
        " '''"
      ]
    },
    {
      "cell_type": "code",
      "execution_count": null,
      "metadata": {},
      "outputs": [
        {
          "data": {
            "text/html": [
              "<div>\n",
              "<style scoped>\n",
              "    .dataframe tbody tr th:only-of-type {\n",
              "        vertical-align: middle;\n",
              "    }\n",
              "\n",
              "    .dataframe tbody tr th {\n",
              "        vertical-align: top;\n",
              "    }\n",
              "\n",
              "    .dataframe thead th {\n",
              "        text-align: right;\n",
              "    }\n",
              "</style>\n",
              "<table border=\"1\" class=\"dataframe\">\n",
              "  <thead>\n",
              "    <tr style=\"text-align: right;\">\n",
              "      <th></th>\n",
              "      <th>product_id</th>\n",
              "      <th>title</th>\n",
              "      <th>bullet_points</th>\n",
              "      <th>description</th>\n",
              "      <th>product_type_id</th>\n",
              "      <th>product_length</th>\n",
              "    </tr>\n",
              "  </thead>\n",
              "  <tbody>\n",
              "    <tr>\n",
              "      <th>2</th>\n",
              "      <td>2765088</td>\n",
              "      <td>PRIKNIK Horn Red Electric Air Horn Compressor ...</td>\n",
              "      <td>[Loud Dual Tone Trumpet Horn, Compatible With ...</td>\n",
              "      <td>specification color red material aluminium vol...</td>\n",
              "      <td>7537</td>\n",
              "      <td>748.031495</td>\n",
              "    </tr>\n",
              "    <tr>\n",
              "      <th>3</th>\n",
              "      <td>1594019</td>\n",
              "      <td>ALISHAH Women's Cotton Ankle Length Leggings C...</td>\n",
              "      <td>[Made By 95%cotton and 5% Lycra which gives yo...</td>\n",
              "      <td>aishah woman lycra cotton ankel legging brand ...</td>\n",
              "      <td>2996</td>\n",
              "      <td>787.401574</td>\n",
              "    </tr>\n",
              "    <tr>\n",
              "      <th>5</th>\n",
              "      <td>2152929</td>\n",
              "      <td>HINS Metal Bucket Shape Plant Pot for Indoor &amp;...</td>\n",
              "      <td>[Simple and elegant, great for displaying indo...</td>\n",
              "      <td>hin brings elegant looking pot stand durable l...</td>\n",
              "      <td>5725</td>\n",
              "      <td>950.000000</td>\n",
              "    </tr>\n",
              "    <tr>\n",
              "      <th>7</th>\n",
              "      <td>2026580</td>\n",
              "      <td>Delavala Self Adhesive Kitchen Backsplash Wall...</td>\n",
              "      <td>[HIGH QUALITY PVC MATERIAL: The kitchen alumin...</td>\n",
              "      <td>aluminum foil stickersgood kitchen helper mom ...</td>\n",
              "      <td>6030</td>\n",
              "      <td>984.251967</td>\n",
              "    </tr>\n",
              "    <tr>\n",
              "      <th>9</th>\n",
              "      <td>2998633</td>\n",
              "      <td>Hexwell Essential oil for Home Fragrance Oil A...</td>\n",
              "      <td>[100% Pure And Natural Essential Oil Or Fragra...</td>\n",
              "      <td>transform home workplace hotel room personal a...</td>\n",
              "      <td>8201</td>\n",
              "      <td>393.700787</td>\n",
              "    </tr>\n",
              "  </tbody>\n",
              "</table>\n",
              "</div>"
            ],
            "text/plain": [
              "   product_id                                              title  \\\n",
              "2     2765088  PRIKNIK Horn Red Electric Air Horn Compressor ...   \n",
              "3     1594019  ALISHAH Women's Cotton Ankle Length Leggings C...   \n",
              "5     2152929  HINS Metal Bucket Shape Plant Pot for Indoor &...   \n",
              "7     2026580  Delavala Self Adhesive Kitchen Backsplash Wall...   \n",
              "9     2998633  Hexwell Essential oil for Home Fragrance Oil A...   \n",
              "\n",
              "                                       bullet_points  \\\n",
              "2  [Loud Dual Tone Trumpet Horn, Compatible With ...   \n",
              "3  [Made By 95%cotton and 5% Lycra which gives yo...   \n",
              "5  [Simple and elegant, great for displaying indo...   \n",
              "7  [HIGH QUALITY PVC MATERIAL: The kitchen alumin...   \n",
              "9  [100% Pure And Natural Essential Oil Or Fragra...   \n",
              "\n",
              "                                         description  product_type_id  \\\n",
              "2  specification color red material aluminium vol...             7537   \n",
              "3  aishah woman lycra cotton ankel legging brand ...             2996   \n",
              "5  hin brings elegant looking pot stand durable l...             5725   \n",
              "7  aluminum foil stickersgood kitchen helper mom ...             6030   \n",
              "9  transform home workplace hotel room personal a...             8201   \n",
              "\n",
              "   product_length  \n",
              "2      748.031495  \n",
              "3      787.401574  \n",
              "5      950.000000  \n",
              "7      984.251967  \n",
              "9      393.700787  "
            ]
          },
          "execution_count": 42,
          "metadata": {},
          "output_type": "execute_result"
        }
      ],
      "source": [
        "''' train_data.head() '''"
      ]
    },
    {
      "cell_type": "code",
      "execution_count": null,
      "metadata": {},
      "outputs": [],
      "source": [
        "''' train_data.to_csv('processed_data_emoji.csv', index=False) '''"
      ]
    },
    {
      "attachments": {},
      "cell_type": "markdown",
      "metadata": {},
      "source": [
        "## Preprocessing the Test Data"
      ]
    },
    {
      "cell_type": "code",
      "execution_count": 65,
      "metadata": {},
      "outputs": [
        {
          "data": {
            "text/html": [
              "<div>\n",
              "<style scoped>\n",
              "    .dataframe tbody tr th:only-of-type {\n",
              "        vertical-align: middle;\n",
              "    }\n",
              "\n",
              "    .dataframe tbody tr th {\n",
              "        vertical-align: top;\n",
              "    }\n",
              "\n",
              "    .dataframe thead th {\n",
              "        text-align: right;\n",
              "    }\n",
              "</style>\n",
              "<table border=\"1\" class=\"dataframe\">\n",
              "  <thead>\n",
              "    <tr style=\"text-align: right;\">\n",
              "      <th></th>\n",
              "      <th>PRODUCT_ID</th>\n",
              "      <th>TITLE</th>\n",
              "      <th>BULLET_POINTS</th>\n",
              "      <th>DESCRIPTION</th>\n",
              "      <th>PRODUCT_TYPE_ID</th>\n",
              "    </tr>\n",
              "  </thead>\n",
              "  <tbody>\n",
              "    <tr>\n",
              "      <th>0</th>\n",
              "      <td>604373</td>\n",
              "      <td>Manuel d'Héliogravure Et de Photogravure En Re...</td>\n",
              "      <td>NaN</td>\n",
              "      <td>NaN</td>\n",
              "      <td>6142</td>\n",
              "    </tr>\n",
              "    <tr>\n",
              "      <th>1</th>\n",
              "      <td>1729783</td>\n",
              "      <td>DCGARING Microfiber Throw Blanket Warm Fuzzy P...</td>\n",
              "      <td>[QUALITY GUARANTEED: Luxury cozy plush polyest...</td>\n",
              "      <td>&lt;b&gt;DCGARING Throw Blanket&lt;/b&gt;&lt;br&gt;&lt;br&gt; &lt;b&gt;Size ...</td>\n",
              "      <td>1622</td>\n",
              "    </tr>\n",
              "    <tr>\n",
              "      <th>2</th>\n",
              "      <td>1871949</td>\n",
              "      <td>I-Match Auto Parts Front License Plate Bracket...</td>\n",
              "      <td>[Front License Plate Bracket Made Of Plastic,D...</td>\n",
              "      <td>Replacement for The Following Vehicles:2020 LE...</td>\n",
              "      <td>7540</td>\n",
              "    </tr>\n",
              "    <tr>\n",
              "      <th>3</th>\n",
              "      <td>1107571</td>\n",
              "      <td>PinMart Gold Plated Excellence in Service 1 Ye...</td>\n",
              "      <td>[Available as a single item or bulk packed. Se...</td>\n",
              "      <td>Our Excellence in Service Lapel Pins feature a...</td>\n",
              "      <td>12442</td>\n",
              "    </tr>\n",
              "    <tr>\n",
              "      <th>4</th>\n",
              "      <td>624253</td>\n",
              "      <td>Visual Mathematics, Illustrated by the TI-92 a...</td>\n",
              "      <td>NaN</td>\n",
              "      <td>NaN</td>\n",
              "      <td>6318</td>\n",
              "    </tr>\n",
              "  </tbody>\n",
              "</table>\n",
              "</div>"
            ],
            "text/plain": [
              "   PRODUCT_ID                                              TITLE  \\\n",
              "0      604373  Manuel d'Héliogravure Et de Photogravure En Re...   \n",
              "1     1729783  DCGARING Microfiber Throw Blanket Warm Fuzzy P...   \n",
              "2     1871949  I-Match Auto Parts Front License Plate Bracket...   \n",
              "3     1107571  PinMart Gold Plated Excellence in Service 1 Ye...   \n",
              "4      624253  Visual Mathematics, Illustrated by the TI-92 a...   \n",
              "\n",
              "                                       BULLET_POINTS  \\\n",
              "0                                                NaN   \n",
              "1  [QUALITY GUARANTEED: Luxury cozy plush polyest...   \n",
              "2  [Front License Plate Bracket Made Of Plastic,D...   \n",
              "3  [Available as a single item or bulk packed. Se...   \n",
              "4                                                NaN   \n",
              "\n",
              "                                         DESCRIPTION  PRODUCT_TYPE_ID  \n",
              "0                                                NaN             6142  \n",
              "1  <b>DCGARING Throw Blanket</b><br><br> <b>Size ...             1622  \n",
              "2  Replacement for The Following Vehicles:2020 LE...             7540  \n",
              "3  Our Excellence in Service Lapel Pins feature a...            12442  \n",
              "4                                                NaN             6318  "
            ]
          },
          "execution_count": 65,
          "metadata": {},
          "output_type": "execute_result"
        }
      ],
      "source": [
        "test_data.head()"
      ]
    },
    {
      "cell_type": "code",
      "execution_count": 66,
      "metadata": {},
      "outputs": [
        {
          "data": {
            "text/plain": [
              "(734736, 5)"
            ]
          },
          "execution_count": 66,
          "metadata": {},
          "output_type": "execute_result"
        }
      ],
      "source": [
        "test_data.shape"
      ]
    },
    {
      "cell_type": "code",
      "execution_count": 67,
      "metadata": {},
      "outputs": [
        {
          "data": {
            "text/plain": [
              "Index(['PRODUCT_ID', 'TITLE', 'BULLET_POINTS', 'DESCRIPTION',\n",
              "       'PRODUCT_TYPE_ID'],\n",
              "      dtype='object')"
            ]
          },
          "execution_count": 67,
          "metadata": {},
          "output_type": "execute_result"
        }
      ],
      "source": [
        "test_data.columns"
      ]
    },
    {
      "cell_type": "code",
      "execution_count": 71,
      "metadata": {},
      "outputs": [
        {
          "data": {
            "text/plain": [
              "<bound method NDFrame.head of 0          1925202\n",
              "1          2673191\n",
              "2          2765088\n",
              "3          1594019\n",
              "4           283658\n",
              "            ...   \n",
              "2249693    2422167\n",
              "2249694    2766635\n",
              "2249695    1987786\n",
              "2249696    1165754\n",
              "2249697    1072666\n",
              "Name: PRODUCT_ID, Length: 2249698, dtype: int64>"
            ]
          },
          "execution_count": 71,
          "metadata": {},
          "output_type": "execute_result"
        }
      ],
      "source": [
        "train_data['PRODUCT_ID'].head"
      ]
    },
    {
      "cell_type": "code",
      "execution_count": 73,
      "metadata": {},
      "outputs": [
        {
          "data": {
            "text/plain": [
              "<bound method NDFrame.head of 0          604373\n",
              "1         1729783\n",
              "2         1871949\n",
              "3         1107571\n",
              "4          624253\n",
              "           ...   \n",
              "734731     921419\n",
              "734732    2456362\n",
              "734733     841529\n",
              "734734    1190194\n",
              "734735    1040810\n",
              "Name: PRODUCT_ID, Length: 734736, dtype: int64>"
            ]
          },
          "execution_count": 73,
          "metadata": {},
          "output_type": "execute_result"
        }
      ],
      "source": [
        "test_data.PRODUCT_ID.head"
      ]
    },
    {
      "cell_type": "code",
      "execution_count": 74,
      "metadata": {},
      "outputs": [
        {
          "data": {
            "text/plain": [
              "<bound method NDFrame.head of         PRODUCT_ID                                              TITLE  \\\n",
              "0           604373  Manuel d'Héliogravure Et de Photogravure En Re...   \n",
              "1          1729783  DCGARING Microfiber Throw Blanket Warm Fuzzy P...   \n",
              "2          1871949  I-Match Auto Parts Front License Plate Bracket...   \n",
              "3          1107571  PinMart Gold Plated Excellence in Service 1 Ye...   \n",
              "4           624253  Visual Mathematics, Illustrated by the TI-92 a...   \n",
              "...            ...                                                ...   \n",
              "734731      921419  Casual Canine Basic Hoodie for Dogs, 16\" Mediu...   \n",
              "734732     2456362  Dive Log Book: Scuba Diving Logbook for Beginn...   \n",
              "734733      841529  Axor 39135001 Citterio Widespread Faucet with ...   \n",
              "734734     1190194  Caroline's Treasures BB1801DS812 Halloween Bas...   \n",
              "734735     1040810  Amsahr 18C1623 Lexmark X3530 Remanufactured Re...   \n",
              "\n",
              "                                            BULLET_POINTS  \\\n",
              "0                                                     NaN   \n",
              "1       [QUALITY GUARANTEED: Luxury cozy plush polyest...   \n",
              "2       [Front License Plate Bracket Made Of Plastic,D...   \n",
              "3       [Available as a single item or bulk packed. Se...   \n",
              "4                                                     NaN   \n",
              "...                                                   ...   \n",
              "734731  [Brightly colored pet sweatshirts with authent...   \n",
              "734732                                                NaN   \n",
              "734733  [8-Inch centers,1/2-Inch IPS inlets,9-Inch spo...   \n",
              "734734  [Indoor or outdoor aluminum artwork prints,8 i...   \n",
              "734735  [Engineered and Manufactured Under European St...   \n",
              "\n",
              "                                              DESCRIPTION  PRODUCT_TYPE_ID  \n",
              "0                                                     NaN             6142  \n",
              "1       <b>DCGARING Throw Blanket</b><br><br> <b>Size ...             1622  \n",
              "2       Replacement for The Following Vehicles:2020 LE...             7540  \n",
              "3       Our Excellence in Service Lapel Pins feature a...            12442  \n",
              "4                                                     NaN             6318  \n",
              "...                                                   ...              ...  \n",
              "734731  ZA6015 16 43 Size-See Chart Below: Medium: 16\"...             7073  \n",
              "734732                                                NaN                1  \n",
              "734733  39135001 Features: -ADA compliant. -Includes p...            10645  \n",
              "734734  Features. Great for inside or outside these Al...            12680  \n",
              "734735  Our Remanufactured Replacement Lexmark Ink Car...                0  \n",
              "\n",
              "[734736 rows x 5 columns]>"
            ]
          },
          "execution_count": 74,
          "metadata": {},
          "output_type": "execute_result"
        }
      ],
      "source": [
        "test_data.head"
      ]
    },
    {
      "cell_type": "code",
      "execution_count": 75,
      "metadata": {},
      "outputs": [],
      "source": [
        "# Preprocess TEST DATA  columns using BERT tokenizer\n",
        "#test_data['PRODUCT_ID'] = test_data['PRODUCT_ID'].apply(lambda x: tokenizer.encode(x, add_special_tokens=True))"
      ]
    },
    {
      "cell_type": "code",
      "execution_count": 79,
      "metadata": {},
      "outputs": [],
      "source": [
        "test_data.fillna(\"\", inplace=True)\n"
      ]
    },
    {
      "cell_type": "code",
      "execution_count": 80,
      "metadata": {},
      "outputs": [],
      "source": [
        "test_data['TITLE'] = test_data['TITLE'].apply(lambda x: tokenizer.encode(x, add_special_tokens=True))\n"
      ]
    },
    {
      "cell_type": "code",
      "execution_count": 81,
      "metadata": {},
      "outputs": [],
      "source": [
        "test_data['BULLET_POINTS'] = test_data['BULLET_POINTS'].apply(lambda x: tokenizer.encode(x, add_special_tokens=True))\n"
      ]
    },
    {
      "cell_type": "code",
      "execution_count": 82,
      "metadata": {},
      "outputs": [],
      "source": [
        "test_data['DESCRIPTION'] = test_data['DESCRIPTION'].apply(lambda x: tokenizer.encode(x, add_special_tokens=True))\n"
      ]
    },
    {
      "cell_type": "code",
      "execution_count": 89,
      "metadata": {},
      "outputs": [],
      "source": [
        "train_data.to_csv('processed_test_data_all_columns.csv', index=False)"
      ]
    },
    {
      "cell_type": "code",
      "execution_count": 90,
      "metadata": {},
      "outputs": [
        {
          "data": {
            "text/plain": [
              "Index(['PRODUCT_ID', 'TITLE', 'BULLET_POINTS', 'DESCRIPTION',\n",
              "       'PRODUCT_TYPE_ID', 'PRODUCT_LENGTH'],\n",
              "      dtype='object')"
            ]
          },
          "execution_count": 90,
          "metadata": {},
          "output_type": "execute_result"
        }
      ],
      "source": [
        "train_data.columns"
      ]
    },
    {
      "cell_type": "code",
      "execution_count": 91,
      "metadata": {},
      "outputs": [
        {
          "data": {
            "text/plain": [
              "<bound method NDFrame.head of          PRODUCT_ID                                              TITLE  \\\n",
              "0           1925202  [101, 2396, 2480, 14876, 12798, 10722, 15000, ...   \n",
              "1           2673191  [101, 2928, 7084, 2611, 1052, 2100, 3900, 2863...   \n",
              "2           2765088  [101, 26927, 2243, 8238, 7109, 2417, 3751, 225...   \n",
              "3           1594019  [101, 4862, 25611, 2450, 6557, 10792, 3091, 41...   \n",
              "4            283658    [101, 2142, 3400, 23414, 9519, 2307, 9230, 102]   \n",
              "...             ...                                                ...   \n",
              "2249693     2422167  [101, 18368, 2450, 1059, 6396, 1040, 2546, 254...   \n",
              "2249694     2766635  [101, 1017, 15042, 2015, 13020, 2208, 10140, 9...   \n",
              "2249695     1987786  [101, 16073, 3217, 2080, 11740, 2929, 6267, 47...   \n",
              "2249696     1165754  [101, 16175, 2376, 23969, 2595, 19892, 25509, ...   \n",
              "2249697     1072666  [101, 3712, 17364, 2121, 1039, 2581, 21619, 16...   \n",
              "\n",
              "                                             BULLET_POINTS  \\\n",
              "0        [101, 1031, 20783, 1004, 16004, 1024, 3376, 76...   \n",
              "1        [101, 1031, 4302, 10693, 2002, 2094, 16279, 10...   \n",
              "2        [101, 1031, 5189, 7037, 4309, 9368, 7109, 1010...   \n",
              "3        [101, 1031, 2081, 2011, 5345, 1003, 6557, 1998...   \n",
              "4                                               [101, 102]   \n",
              "...                                                    ...   \n",
              "2249693               [101, 3430, 1024, 26572, 20367, 102]   \n",
              "2249694  [101, 1031, 100, 1031, 7780, 1033, 4427, 2011,...   \n",
              "2249695  [101, 1031, 13764, 2946, 1024, 2260, 5282, 199...   \n",
              "2249696                                         [101, 102]   \n",
              "2249697  [101, 1031, 6922, 3482, 2005, 1052, 2078, 1031...   \n",
              "\n",
              "                                               DESCRIPTION  PRODUCT_TYPE_ID  \\\n",
              "0                                               [101, 102]             1650   \n",
              "1                                               [101, 102]             2755   \n",
              "2        [101, 15480, 1024, 3609, 1024, 2417, 1010, 343...             7537   \n",
              "3        [101, 9932, 25611, 2308, 1005, 1055, 1048, 210...             2996   \n",
              "4                                               [101, 102]             6112   \n",
              "...                                                    ...              ...   \n",
              "2249693                                         [101, 102]             3009   \n",
              "2249694  [101, 1026, 1052, 1028, 1026, 1038, 1028, 1031...             3413   \n",
              "2249695  [101, 2813, 20940, 2024, 2200, 8702, 1999, 350...             1574   \n",
              "2249696                                         [101, 102]              592   \n",
              "2249697  [101, 3712, 17364, 2121, 1039, 2581, 21619, 16...             7367   \n",
              "\n",
              "         PRODUCT_LENGTH  \n",
              "0           2125.980000  \n",
              "1            393.700000  \n",
              "2            748.031495  \n",
              "3            787.401574  \n",
              "4            598.424000  \n",
              "...                 ...  \n",
              "2249693     1181.100000  \n",
              "2249694      125.984252  \n",
              "2249695     1200.000000  \n",
              "2249696     2900.000000  \n",
              "2249697     2000.000000  \n",
              "\n",
              "[2249698 rows x 6 columns]>"
            ]
          },
          "execution_count": 91,
          "metadata": {},
          "output_type": "execute_result"
        }
      ],
      "source": [
        "train_data.head"
      ]
    },
    {
      "cell_type": "code",
      "execution_count": 92,
      "metadata": {},
      "outputs": [
        {
          "data": {
            "text/plain": [
              "<bound method NDFrame.head of         PRODUCT_ID                                              TITLE  \\\n",
              "0           604373  [101, 7762, 1040, 1005, 2002, 12798, 17643, 19...   \n",
              "1          1729783  [101, 5887, 6843, 2075, 12702, 8873, 5677, 546...   \n",
              "2          1871949  [101, 1045, 1011, 2674, 8285, 3033, 2392, 6105...   \n",
              "3          1107571  [101, 9231, 22345, 2751, 5127, 2094, 8012, 199...   \n",
              "4           624253  [101, 5107, 5597, 1010, 7203, 2011, 1996, 1484...   \n",
              "...            ...                                                ...   \n",
              "734731      921419  [101, 10017, 28735, 3937, 7415, 2666, 2005, 60...   \n",
              "734732     2456362  [101, 11529, 8833, 2338, 1024, 28651, 9404, 88...   \n",
              "734733      841529  [101, 22260, 2953, 4464, 17134, 29345, 2487, 2...   \n",
              "734734     1190194  [101, 7981, 1005, 1055, 17605, 22861, 15136, 2...   \n",
              "734735     1040810  [101, 2572, 3736, 8093, 2324, 2278, 16048, 219...   \n",
              "\n",
              "                                            BULLET_POINTS  \\\n",
              "0                                              [101, 102]   \n",
              "1       [101, 1031, 3737, 12361, 1024, 9542, 26931, 27...   \n",
              "2       [101, 1031, 2392, 6105, 5127, 21605, 2081, 199...   \n",
              "3       [101, 1031, 2800, 2004, 1037, 2309, 8875, 2030...   \n",
              "4                                              [101, 102]   \n",
              "...                                                   ...   \n",
              "734731  [101, 1031, 14224, 6910, 9004, 28095, 2015, 20...   \n",
              "734732                                         [101, 102]   \n",
              "734733  [101, 1031, 1022, 1011, 4960, 6401, 1010, 1015...   \n",
              "734734  [101, 1031, 7169, 2030, 7254, 13061, 8266, 112...   \n",
              "734735  [101, 1031, 13685, 1998, 7609, 2104, 2647, 311...   \n",
              "\n",
              "                                              DESCRIPTION  PRODUCT_TYPE_ID  \n",
              "0                                              [101, 102]             6142  \n",
              "1       [101, 1026, 1038, 1028, 5887, 6843, 2075, 5466...             1622  \n",
              "2       [101, 6110, 2005, 1996, 2206, 4683, 1024, 1260...             7540  \n",
              "3       [101, 2256, 8012, 1999, 2326, 5001, 2884, 1630...            12442  \n",
              "4                                              [101, 102]             6318  \n",
              "...                                                   ...              ...  \n",
              "734731  [101, 23564, 16086, 16068, 2385, 4724, 2946, 1...             7073  \n",
              "734732                                         [101, 102]                1  \n",
              "734733  [101, 4464, 17134, 29345, 2487, 2838, 1024, 10...            10645  \n",
              "734734  [101, 2838, 1012, 2307, 2005, 2503, 2030, 2648...            12680  \n",
              "734735  [101, 2256, 2128, 2386, 16093, 18908, 12165, 6...                0  \n",
              "\n",
              "[734736 rows x 5 columns]>"
            ]
          },
          "execution_count": 92,
          "metadata": {},
          "output_type": "execute_result"
        }
      ],
      "source": [
        "test_data.head"
      ]
    },
    {
      "attachments": {},
      "cell_type": "markdown",
      "metadata": {},
      "source": [
        "# Building a model and training it "
      ]
    },
    {
      "cell_type": "code",
      "execution_count": 119,
      "metadata": {},
      "outputs": [],
      "source": [
        "from sklearn.tree import DecisionTreeRegressor\n",
        "from sklearn.feature_extraction.text import CountVectorizer\n",
        "from sklearn.metrics import mean_squared_error\n",
        "from sklearn.decomposition import PCA"
      ]
    },
    {
      "cell_type": "code",
      "execution_count": 125,
      "metadata": {},
      "outputs": [],
      "source": [
        "# Load the training and testing data\n",
        "train_data = pd.read_csv('processed_train_except_product_length.csv')\n",
        "test_data = pd.read_csv('processed_test_data_all_columns.csv')"
      ]
    },
    {
      "cell_type": "code",
      "execution_count": 127,
      "metadata": {},
      "outputs": [],
      "source": [
        "#pip install gensim"
      ]
    }
  ],
  "metadata": {
    "colab": {
      "provenance": []
    },
    "kernelspec": {
      "display_name": "Python 3",
      "name": "python3"
    },
    "language_info": {
      "codemirror_mode": {
        "name": "ipython",
        "version": 3
      },
      "file_extension": ".py",
      "mimetype": "text/x-python",
      "name": "python",
      "nbconvert_exporter": "python",
      "pygments_lexer": "ipython3",
      "version": "3.10.0"
    }
  },
  "nbformat": 4,
  "nbformat_minor": 0
}
