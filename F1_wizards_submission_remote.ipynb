{
  "cells": [
    {
      "attachments": {},
      "cell_type": "markdown",
      "metadata": {},
      "source": [
        "# Importing Libraries\n"
      ]
    },
    {
      "cell_type": "code",
      "execution_count": 1,
      "metadata": {
        "id": "XNCT9VdOYe9W"
      },
      "outputs": [],
      "source": [
        "import pandas as pd\n",
        "import tqdm as tqdm"
      ]
    },
    {
      "cell_type": "code",
      "execution_count": 2,
      "metadata": {
        "id": "loFWtVSqY-XS"
      },
      "outputs": [],
      "source": [
        "train_data=pd.read_csv(r'C:\\Users\\rctuh\\Desktop\\amazon_ml_challenge\\dataset\\train.csv')\n",
        "test_data=pd.read_csv(r'C:\\Users\\rctuh\\Desktop\\amazon_ml_challenge\\dataset\\test.csv')\n",
        "validation_data=pd.read_csv(r'C:\\Users\\rctuh\\Desktop\\amazon_ml_challenge\\dataset\\sample_submission.csv')"
      ]
    },
    {
      "attachments": {},
      "cell_type": "markdown",
      "metadata": {},
      "source": [
        "# Doing EDA on the Dataset "
      ]
    },
    {
      "cell_type": "code",
      "execution_count": 3,
      "metadata": {},
      "outputs": [],
      "source": [
        "import numpy as np\n",
        "import matplotlib.pyplot as plt\n",
        "import seaborn as sns"
      ]
    },
    {
      "cell_type": "code",
      "execution_count": 4,
      "metadata": {},
      "outputs": [
        {
          "name": "stdout",
          "output_type": "stream",
          "text": [
            "   PRODUCT_ID                                              TITLE  \\\n",
            "0     1925202  ArtzFolio Tulip Flowers Blackout Curtain for D...   \n",
            "1     2673191  Marks & Spencer Girls' Pyjama Sets T86_2561C_N...   \n",
            "2     2765088  PRIKNIK Horn Red Electric Air Horn Compressor ...   \n",
            "3     1594019  ALISHAH Women's Cotton Ankle Length Leggings C...   \n",
            "4      283658  The United Empire Loyalists: A Chronicle of th...   \n",
            "\n",
            "                                       BULLET_POINTS  \\\n",
            "0  [LUXURIOUS & APPEALING: Beautiful custom-made ...   \n",
            "1  [Harry Potter Hedwig Pyjamas (6-16 Yrs),100% c...   \n",
            "2  [Loud Dual Tone Trumpet Horn, Compatible With ...   \n",
            "3  [Made By 95%cotton and 5% Lycra which gives yo...   \n",
            "4                                                NaN   \n",
            "\n",
            "                                         DESCRIPTION  PRODUCT_TYPE_ID  \\\n",
            "0                                                NaN             1650   \n",
            "1                                                NaN             2755   \n",
            "2  Specifications: Color: Red, Material: Aluminiu...             7537   \n",
            "3  AISHAH Women's Lycra Cotton Ankel Leggings. Br...             2996   \n",
            "4                                                NaN             6112   \n",
            "\n",
            "   PRODUCT_LENGTH  \n",
            "0     2125.980000  \n",
            "1      393.700000  \n",
            "2      748.031495  \n",
            "3      787.401574  \n",
            "4      598.424000  \n",
            "The Shape of the Training Data is :  (2249698, 6)\n"
          ]
        }
      ],
      "source": [
        "print(train_data.head())\n",
        "print(\"The Shape of the Training Data is : \" ,train_data.shape)"
      ]
    },
    {
      "cell_type": "code",
      "execution_count": 5,
      "metadata": {},
      "outputs": [
        {
          "name": "stdout",
          "output_type": "stream",
          "text": [
            "   PRODUCT_ID                                              TITLE  \\\n",
            "0      604373  Manuel d'Héliogravure Et de Photogravure En Re...   \n",
            "1     1729783  DCGARING Microfiber Throw Blanket Warm Fuzzy P...   \n",
            "2     1871949  I-Match Auto Parts Front License Plate Bracket...   \n",
            "3     1107571  PinMart Gold Plated Excellence in Service 1 Ye...   \n",
            "4      624253  Visual Mathematics, Illustrated by the TI-92 a...   \n",
            "\n",
            "                                       BULLET_POINTS  \\\n",
            "0                                                NaN   \n",
            "1  [QUALITY GUARANTEED: Luxury cozy plush polyest...   \n",
            "2  [Front License Plate Bracket Made Of Plastic,D...   \n",
            "3  [Available as a single item or bulk packed. Se...   \n",
            "4                                                NaN   \n",
            "\n",
            "                                         DESCRIPTION  PRODUCT_TYPE_ID  \n",
            "0                                                NaN             6142  \n",
            "1  <b>DCGARING Throw Blanket</b><br><br> <b>Size ...             1622  \n",
            "2  Replacement for The Following Vehicles:2020 LE...             7540  \n",
            "3  Our Excellence in Service Lapel Pins feature a...            12442  \n",
            "4                                                NaN             6318  \n",
            "The Shape of the Testing Data is :  (734736, 5)\n"
          ]
        }
      ],
      "source": [
        "print(test_data.head())\n",
        "print(\"The Shape of the Testing Data is : \" ,test_data.shape)"
      ]
    },
    {
      "attachments": {},
      "cell_type": "markdown",
      "metadata": {},
      "source": [
        "### Just Exploring the Training Data"
      ]
    },
    {
      "cell_type": "code",
      "execution_count": 6,
      "metadata": {},
      "outputs": [
        {
          "data": {
            "text/plain": [
              "PRODUCT_ID           int64\n",
              "TITLE               object\n",
              "BULLET_POINTS       object\n",
              "DESCRIPTION         object\n",
              "PRODUCT_TYPE_ID      int64\n",
              "PRODUCT_LENGTH     float64\n",
              "dtype: object"
            ]
          },
          "execution_count": 6,
          "metadata": {},
          "output_type": "execute_result"
        }
      ],
      "source": [
        "train_data.dtypes\n"
      ]
    },
    {
      "cell_type": "code",
      "execution_count": 26,
      "metadata": {},
      "outputs": [
        {
          "data": {
            "text/plain": [
              "product_id         0\n",
              "title              0\n",
              "bullet_points      0\n",
              "description        0\n",
              "product_type_id    0\n",
              "product_length     0\n",
              "dtype: int64"
            ]
          },
          "execution_count": 26,
          "metadata": {},
          "output_type": "execute_result"
        }
      ],
      "source": [
        "train_data.isnull().sum()"
      ]
    },
    {
      "cell_type": "code",
      "execution_count": 8,
      "metadata": {},
      "outputs": [
        {
          "data": {
            "text/plain": [
              "0"
            ]
          },
          "execution_count": 8,
          "metadata": {},
          "output_type": "execute_result"
        }
      ],
      "source": [
        "train_data.duplicated().sum()\n"
      ]
    },
    {
      "cell_type": "code",
      "execution_count": 9,
      "metadata": {},
      "outputs": [],
      "source": [
        "#Droppping Nan values\n",
        "train_data.dropna(inplace=True)\n",
        "test_data.dropna(inplace=True)"
      ]
    },
    {
      "cell_type": "code",
      "execution_count": 10,
      "metadata": {},
      "outputs": [
        {
          "data": {
            "text/html": [
              "<div>\n",
              "<style scoped>\n",
              "    .dataframe tbody tr th:only-of-type {\n",
              "        vertical-align: middle;\n",
              "    }\n",
              "\n",
              "    .dataframe tbody tr th {\n",
              "        vertical-align: top;\n",
              "    }\n",
              "\n",
              "    .dataframe thead th {\n",
              "        text-align: right;\n",
              "    }\n",
              "</style>\n",
              "<table border=\"1\" class=\"dataframe\">\n",
              "  <thead>\n",
              "    <tr style=\"text-align: right;\">\n",
              "      <th></th>\n",
              "      <th>PRODUCT_ID</th>\n",
              "      <th>PRODUCT_TYPE_ID</th>\n",
              "      <th>PRODUCT_LENGTH</th>\n",
              "    </tr>\n",
              "  </thead>\n",
              "  <tbody>\n",
              "    <tr>\n",
              "      <th>count</th>\n",
              "      <td>1.038460e+06</td>\n",
              "      <td>1.038460e+06</td>\n",
              "      <td>1.038460e+06</td>\n",
              "    </tr>\n",
              "    <tr>\n",
              "      <th>mean</th>\n",
              "      <td>2.042501e+06</td>\n",
              "      <td>5.170455e+03</td>\n",
              "      <td>6.713314e+03</td>\n",
              "    </tr>\n",
              "    <tr>\n",
              "      <th>std</th>\n",
              "      <td>6.280456e+05</td>\n",
              "      <td>3.928656e+03</td>\n",
              "      <td>1.985306e+06</td>\n",
              "    </tr>\n",
              "    <tr>\n",
              "      <th>min</th>\n",
              "      <td>8.000000e+00</td>\n",
              "      <td>0.000000e+00</td>\n",
              "      <td>1.000000e+00</td>\n",
              "    </tr>\n",
              "    <tr>\n",
              "      <th>25%</th>\n",
              "      <td>1.537351e+06</td>\n",
              "      <td>2.197000e+03</td>\n",
              "      <td>4.330709e+02</td>\n",
              "    </tr>\n",
              "    <tr>\n",
              "      <th>50%</th>\n",
              "      <td>2.102976e+06</td>\n",
              "      <td>3.278000e+03</td>\n",
              "      <td>7.086614e+02</td>\n",
              "    </tr>\n",
              "    <tr>\n",
              "      <th>75%</th>\n",
              "      <td>2.597901e+06</td>\n",
              "      <td>7.978000e+03</td>\n",
              "      <td>1.200000e+03</td>\n",
              "    </tr>\n",
              "    <tr>\n",
              "      <th>max</th>\n",
              "      <td>2.999997e+06</td>\n",
              "      <td>1.342000e+04</td>\n",
              "      <td>1.885801e+09</td>\n",
              "    </tr>\n",
              "  </tbody>\n",
              "</table>\n",
              "</div>"
            ],
            "text/plain": [
              "         PRODUCT_ID  PRODUCT_TYPE_ID  PRODUCT_LENGTH\n",
              "count  1.038460e+06     1.038460e+06    1.038460e+06\n",
              "mean   2.042501e+06     5.170455e+03    6.713314e+03\n",
              "std    6.280456e+05     3.928656e+03    1.985306e+06\n",
              "min    8.000000e+00     0.000000e+00    1.000000e+00\n",
              "25%    1.537351e+06     2.197000e+03    4.330709e+02\n",
              "50%    2.102976e+06     3.278000e+03    7.086614e+02\n",
              "75%    2.597901e+06     7.978000e+03    1.200000e+03\n",
              "max    2.999997e+06     1.342000e+04    1.885801e+09"
            ]
          },
          "execution_count": 10,
          "metadata": {},
          "output_type": "execute_result"
        }
      ],
      "source": [
        "train_data.describe()"
      ]
    },
    {
      "cell_type": "code",
      "execution_count": 39,
      "metadata": {},
      "outputs": [],
      "source": [
        "sns.histplot(train_data['PRODUCT_LENGTH'])\n",
        "plt.show()"
      ]
    },
    {
      "cell_type": "code",
      "execution_count": 11,
      "metadata": {},
      "outputs": [
        {
          "data": {
            "image/png": "[encoded data removed]",
            "text/plain": [
              "<Figure size 432x288 with 1 Axes>"
            ]
          },
          "metadata": {
            "needs_background": "light"
          },
          "output_type": "display_data"
        }
      ],
      "source": [
        "for col in ['PRODUCT_TYPE_ID']:\n",
        "    sns.countplot(x=col, data=train_data)\n",
        "    plt.show()"
      ]
    },
    {
      "attachments": {},
      "cell_type": "markdown",
      "metadata": {
        "id": "Sj3GCUXDcfrG"
      },
      "source": [
        "# Data Preprocessing"
      ]
    },
    {
      "cell_type": "code",
      "execution_count": 12,
      "metadata": {
        "colab": {
          "base_uri": "https://localhost:8080/",
          "height": 1735
        },
        "id": "7n-ewXbMlYOI",
        "outputId": "f7940b34-634d-434b-fef5-4be1c42a7ddb"
      },
      "outputs": [
        {
          "data": {
            "text/html": [
              "<div>\n",
              "<style scoped>\n",
              "    .dataframe tbody tr th:only-of-type {\n",
              "        vertical-align: middle;\n",
              "    }\n",
              "\n",
              "    .dataframe tbody tr th {\n",
              "        vertical-align: top;\n",
              "    }\n",
              "\n",
              "    .dataframe thead th {\n",
              "        text-align: right;\n",
              "    }\n",
              "</style>\n",
              "<table border=\"1\" class=\"dataframe\">\n",
              "  <thead>\n",
              "    <tr style=\"text-align: right;\">\n",
              "      <th></th>\n",
              "      <th>PRODUCT_ID</th>\n",
              "      <th>TITLE</th>\n",
              "      <th>BULLET_POINTS</th>\n",
              "      <th>DESCRIPTION</th>\n",
              "      <th>PRODUCT_TYPE_ID</th>\n",
              "      <th>PRODUCT_LENGTH</th>\n",
              "    </tr>\n",
              "  </thead>\n",
              "  <tbody>\n",
              "    <tr>\n",
              "      <th>2</th>\n",
              "      <td>2765088</td>\n",
              "      <td>PRIKNIK Horn Red Electric Air Horn Compressor ...</td>\n",
              "      <td>[Loud Dual Tone Trumpet Horn, Compatible With ...</td>\n",
              "      <td>Specifications: Color: Red, Material: Aluminiu...</td>\n",
              "      <td>7537</td>\n",
              "      <td>748.031495</td>\n",
              "    </tr>\n",
              "    <tr>\n",
              "      <th>3</th>\n",
              "      <td>1594019</td>\n",
              "      <td>ALISHAH Women's Cotton Ankle Length Leggings C...</td>\n",
              "      <td>[Made By 95%cotton and 5% Lycra which gives yo...</td>\n",
              "      <td>AISHAH Women's Lycra Cotton Ankel Leggings. Br...</td>\n",
              "      <td>2996</td>\n",
              "      <td>787.401574</td>\n",
              "    </tr>\n",
              "    <tr>\n",
              "      <th>5</th>\n",
              "      <td>2152929</td>\n",
              "      <td>HINS Metal Bucket Shape Plant Pot for Indoor &amp;...</td>\n",
              "      <td>[Simple and elegant, great for displaying indo...</td>\n",
              "      <td>HINS Brings you the most Elegant Looking Pot w...</td>\n",
              "      <td>5725</td>\n",
              "      <td>950.000000</td>\n",
              "    </tr>\n",
              "    <tr>\n",
              "      <th>7</th>\n",
              "      <td>2026580</td>\n",
              "      <td>Delavala Self Adhesive Kitchen Backsplash Wall...</td>\n",
              "      <td>[HIGH QUALITY PVC MATERIAL: The kitchen alumin...</td>\n",
              "      <td>&lt;p&gt;&lt;strong&gt;Aluminum Foil Stickers-good kitchen...</td>\n",
              "      <td>6030</td>\n",
              "      <td>984.251967</td>\n",
              "    </tr>\n",
              "    <tr>\n",
              "      <th>9</th>\n",
              "      <td>2998633</td>\n",
              "      <td>Hexwell Essential oil for Home Fragrance Oil A...</td>\n",
              "      <td>[100% Pure And Natural Essential Oil Or Fragra...</td>\n",
              "      <td>Transform your home, workplace or hotel room i...</td>\n",
              "      <td>8201</td>\n",
              "      <td>393.700787</td>\n",
              "    </tr>\n",
              "  </tbody>\n",
              "</table>\n",
              "</div>"
            ],
            "text/plain": [
              "   PRODUCT_ID                                              TITLE  \\\n",
              "2     2765088  PRIKNIK Horn Red Electric Air Horn Compressor ...   \n",
              "3     1594019  ALISHAH Women's Cotton Ankle Length Leggings C...   \n",
              "5     2152929  HINS Metal Bucket Shape Plant Pot for Indoor &...   \n",
              "7     2026580  Delavala Self Adhesive Kitchen Backsplash Wall...   \n",
              "9     2998633  Hexwell Essential oil for Home Fragrance Oil A...   \n",
              "\n",
              "                                       BULLET_POINTS  \\\n",
              "2  [Loud Dual Tone Trumpet Horn, Compatible With ...   \n",
              "3  [Made By 95%cotton and 5% Lycra which gives yo...   \n",
              "5  [Simple and elegant, great for displaying indo...   \n",
              "7  [HIGH QUALITY PVC MATERIAL: The kitchen alumin...   \n",
              "9  [100% Pure And Natural Essential Oil Or Fragra...   \n",
              "\n",
              "                                         DESCRIPTION  PRODUCT_TYPE_ID  \\\n",
              "2  Specifications: Color: Red, Material: Aluminiu...             7537   \n",
              "3  AISHAH Women's Lycra Cotton Ankel Leggings. Br...             2996   \n",
              "5  HINS Brings you the most Elegant Looking Pot w...             5725   \n",
              "7  <p><strong>Aluminum Foil Stickers-good kitchen...             6030   \n",
              "9  Transform your home, workplace or hotel room i...             8201   \n",
              "\n",
              "   PRODUCT_LENGTH  \n",
              "2      748.031495  \n",
              "3      787.401574  \n",
              "5      950.000000  \n",
              "7      984.251967  \n",
              "9      393.700787  "
            ]
          },
          "execution_count": 12,
          "metadata": {},
          "output_type": "execute_result"
        }
      ],
      "source": [
        "train_data.head()"
      ]
    },
    {
      "cell_type": "code",
      "execution_count": 13,
      "metadata": {
        "colab": {
          "base_uri": "https://localhost:8080/"
        },
        "id": "BbDiZfGFlcei",
        "outputId": "ffcde1fc-53e2-4d3d-d4f7-2300c5dbabba"
      },
      "outputs": [
        {
          "data": {
            "text/plain": [
              "(1038460, 6)"
            ]
          },
          "execution_count": 13,
          "metadata": {},
          "output_type": "execute_result"
        }
      ],
      "source": [
        "train_data.shape"
      ]
    },
    {
      "attachments": {},
      "cell_type": "markdown",
      "metadata": {
        "id": "_qfq8KRVmi9z"
      },
      "source": [
        "## Preprocessing the Product Desciption Column"
      ]
    },
    {
      "cell_type": "code",
      "execution_count": 14,
      "metadata": {
        "id": "j3dN0NGAmoPA"
      },
      "outputs": [],
      "source": [
        "import re\n",
        "import string\n",
        "import nltk\n",
        "from nltk.corpus import stopwords\n",
        "from nltk.tokenize import word_tokenize\n",
        "from nltk.stem import WordNetLemmatizer"
      ]
    },
    {
      "cell_type": "code",
      "execution_count": null,
      "metadata": {
        "colab": {
          "base_uri": "https://localhost:8080/"
        },
        "id": "T32Fi_jSnEQJ",
        "outputId": "14fe2b53-f8d9-4865-ef31-9498a189c25a"
      },
      "outputs": [],
      "source": [
        "#nltk.download('punkt')\n",
        "#nltk.download('stopwords')\n",
        "#nltk.download('wordnet')\n",
        "#nltk.download('omw-1.4')"
      ]
    },
    {
      "cell_type": "code",
      "execution_count": 21,
      "metadata": {
        "id": "f-HPrf50mr1P"
      },
      "outputs": [],
      "source": [
        "def preprocess_text(text):\n",
        "    # convert text to lowercase\n",
        "    text = text.lower()\n",
        "    \n",
        "    # remove HTML tags\n",
        "    text = re.sub('<.*?>', '', text)\n",
        "    \n",
        "    # remove punctuation\n",
        "    text = text.translate(str.maketrans('', '', string.punctuation))\n",
        "    \n",
        "    # tokenize the text\n",
        "    tokens = word_tokenize(text)\n",
        "    \n",
        "    # remove stopwords\n",
        "    stop_words = set(stopwords.words('english'))\n",
        "    tokens = [word for word in tokens if word not in stop_words]\n",
        "    \n",
        "    # lemmatize the tokens\n",
        "    lemmatizer = WordNetLemmatizer()\n",
        "    tokens = [lemmatizer.lemmatize(word) for word in tokens]\n",
        "    \n",
        "    # join the tokens back into a string\n",
        "    text = ' '.join(tokens)\n",
        "    \n",
        "    return text"
      ]
    },
    {
      "cell_type": "code",
      "execution_count": 17,
      "metadata": {},
      "outputs": [],
      "source": [
        "from tqdm import tqdm"
      ]
    },
    {
      "cell_type": "code",
      "execution_count": null,
      "metadata": {},
      "outputs": [
        {
          "name": "stderr",
          "output_type": "stream",
          "text": [
            "100%|██████████| 1038460/1038460 [13:27<00:00, 1286.16it/s]\n"
          ]
        }
      ],
      "source": [
        "total_iterations = len(train_data['DESCRIPTION'])\n",
        "\n",
        "for text in tqdm(train_data['DESCRIPTION'], total=total_iterations):\n",
        "    preprocessed_text = preprocess_text(text)"
      ]
    },
    {
      "cell_type": "code",
      "execution_count": null,
      "metadata": {
        "id": "vc5R_DQxmvGb"
      },
      "outputs": [],
      "source": [
        "##train_data['DESCRIPTION'] = train_data['DESCRIPTION'].apply(preprocess_text)"
      ]
    },
    {
      "cell_type": "code",
      "execution_count": null,
      "metadata": {},
      "outputs": [
        {
          "name": "stdout",
          "output_type": "stream",
          "text": [
            "2    Specifications: Color: Red, Material: Aluminiu...\n",
            "3    AISHAH Women's Lycra Cotton Ankel Leggings. Br...\n",
            "5    HINS Brings you the most Elegant Looking Pot w...\n",
            "7    <p><strong>Aluminum Foil Stickers-good kitchen...\n",
            "9    Transform your home, workplace or hotel room i...\n",
            "Name: DESCRIPTION, dtype: object\n"
          ]
        }
      ],
      "source": [
        "print(train_data['DESCRIPTION'].head())"
      ]
    },
    {
      "cell_type": "code",
      "execution_count": 22,
      "metadata": {},
      "outputs": [
        {
          "data": {
            "text/html": [
              "<div>\n",
              "<style scoped>\n",
              "    .dataframe tbody tr th:only-of-type {\n",
              "        vertical-align: middle;\n",
              "    }\n",
              "\n",
              "    .dataframe tbody tr th {\n",
              "        vertical-align: top;\n",
              "    }\n",
              "\n",
              "    .dataframe thead th {\n",
              "        text-align: right;\n",
              "    }\n",
              "</style>\n",
              "<table border=\"1\" class=\"dataframe\">\n",
              "  <thead>\n",
              "    <tr style=\"text-align: right;\">\n",
              "      <th></th>\n",
              "      <th>PRODUCT_ID</th>\n",
              "      <th>TITLE</th>\n",
              "      <th>BULLET_POINTS</th>\n",
              "      <th>DESCRIPTION</th>\n",
              "      <th>PRODUCT_TYPE_ID</th>\n",
              "      <th>PRODUCT_LENGTH</th>\n",
              "    </tr>\n",
              "  </thead>\n",
              "  <tbody>\n",
              "    <tr>\n",
              "      <th>2</th>\n",
              "      <td>2765088</td>\n",
              "      <td>PRIKNIK Horn Red Electric Air Horn Compressor ...</td>\n",
              "      <td>[Loud Dual Tone Trumpet Horn, Compatible With ...</td>\n",
              "      <td>Specifications: Color: Red, Material: Aluminiu...</td>\n",
              "      <td>7537</td>\n",
              "      <td>748.031495</td>\n",
              "    </tr>\n",
              "    <tr>\n",
              "      <th>3</th>\n",
              "      <td>1594019</td>\n",
              "      <td>ALISHAH Women's Cotton Ankle Length Leggings C...</td>\n",
              "      <td>[Made By 95%cotton and 5% Lycra which gives yo...</td>\n",
              "      <td>AISHAH Women's Lycra Cotton Ankel Leggings. Br...</td>\n",
              "      <td>2996</td>\n",
              "      <td>787.401574</td>\n",
              "    </tr>\n",
              "    <tr>\n",
              "      <th>5</th>\n",
              "      <td>2152929</td>\n",
              "      <td>HINS Metal Bucket Shape Plant Pot for Indoor &amp;...</td>\n",
              "      <td>[Simple and elegant, great for displaying indo...</td>\n",
              "      <td>HINS Brings you the most Elegant Looking Pot w...</td>\n",
              "      <td>5725</td>\n",
              "      <td>950.000000</td>\n",
              "    </tr>\n",
              "    <tr>\n",
              "      <th>7</th>\n",
              "      <td>2026580</td>\n",
              "      <td>Delavala Self Adhesive Kitchen Backsplash Wall...</td>\n",
              "      <td>[HIGH QUALITY PVC MATERIAL: The kitchen alumin...</td>\n",
              "      <td>&lt;p&gt;&lt;strong&gt;Aluminum Foil Stickers-good kitchen...</td>\n",
              "      <td>6030</td>\n",
              "      <td>984.251967</td>\n",
              "    </tr>\n",
              "    <tr>\n",
              "      <th>9</th>\n",
              "      <td>2998633</td>\n",
              "      <td>Hexwell Essential oil for Home Fragrance Oil A...</td>\n",
              "      <td>[100% Pure And Natural Essential Oil Or Fragra...</td>\n",
              "      <td>Transform your home, workplace or hotel room i...</td>\n",
              "      <td>8201</td>\n",
              "      <td>393.700787</td>\n",
              "    </tr>\n",
              "  </tbody>\n",
              "</table>\n",
              "</div>"
            ],
            "text/plain": [
              "   PRODUCT_ID                                              TITLE  \\\n",
              "2     2765088  PRIKNIK Horn Red Electric Air Horn Compressor ...   \n",
              "3     1594019  ALISHAH Women's Cotton Ankle Length Leggings C...   \n",
              "5     2152929  HINS Metal Bucket Shape Plant Pot for Indoor &...   \n",
              "7     2026580  Delavala Self Adhesive Kitchen Backsplash Wall...   \n",
              "9     2998633  Hexwell Essential oil for Home Fragrance Oil A...   \n",
              "\n",
              "                                       BULLET_POINTS  \\\n",
              "2  [Loud Dual Tone Trumpet Horn, Compatible With ...   \n",
              "3  [Made By 95%cotton and 5% Lycra which gives yo...   \n",
              "5  [Simple and elegant, great for displaying indo...   \n",
              "7  [HIGH QUALITY PVC MATERIAL: The kitchen alumin...   \n",
              "9  [100% Pure And Natural Essential Oil Or Fragra...   \n",
              "\n",
              "                                         DESCRIPTION  PRODUCT_TYPE_ID  \\\n",
              "2  Specifications: Color: Red, Material: Aluminiu...             7537   \n",
              "3  AISHAH Women's Lycra Cotton Ankel Leggings. Br...             2996   \n",
              "5  HINS Brings you the most Elegant Looking Pot w...             5725   \n",
              "7  <p><strong>Aluminum Foil Stickers-good kitchen...             6030   \n",
              "9  Transform your home, workplace or hotel room i...             8201   \n",
              "\n",
              "   PRODUCT_LENGTH  \n",
              "2      748.031495  \n",
              "3      787.401574  \n",
              "5      950.000000  \n",
              "7      984.251967  \n",
              "9      393.700787  "
            ]
          },
          "execution_count": 22,
          "metadata": {},
          "output_type": "execute_result"
        }
      ],
      "source": [
        "train_data.head()"
      ]
    },
    {
      "cell_type": "code",
      "execution_count": 23,
      "metadata": {},
      "outputs": [
        {
          "data": {
            "text/plain": [
              "Index(['PRODUCT_ID', 'TITLE', 'BULLET_POINTS', 'DESCRIPTION',\n",
              "       'PRODUCT_TYPE_ID', 'PRODUCT_LENGTH'],\n",
              "      dtype='object')"
            ]
          },
          "execution_count": 23,
          "metadata": {},
          "output_type": "execute_result"
        }
      ],
      "source": [
        "train_data.columns"
      ]
    },
    {
      "attachments": {},
      "cell_type": "markdown",
      "metadata": {},
      "source": [
        "# Renaming the Columns \n",
        "### Just a cosmetic change"
      ]
    },
    {
      "cell_type": "code",
      "execution_count": 24,
      "metadata": {},
      "outputs": [],
      "source": [
        "train_data = train_data.rename(columns={'PRODUCT_ID': 'product_id', 'TITLE': 'title', 'BULLET_POINTS': 'bullet_points', 'DESCRIPTION': 'description', 'PRODUCT_TYPE_ID': 'product_type_id', 'PRODUCT_LENGTH': 'product_length'})"
      ]
    },
    {
      "cell_type": "code",
      "execution_count": 25,
      "metadata": {},
      "outputs": [
        {
          "data": {
            "text/plain": [
              "Index(['product_id', 'title', 'bullet_points', 'description',\n",
              "       'product_type_id', 'product_length'],\n",
              "      dtype='object')"
            ]
          },
          "execution_count": 25,
          "metadata": {},
          "output_type": "execute_result"
        }
      ],
      "source": [
        "train_data.columns"
      ]
    },
    {
      "attachments": {},
      "cell_type": "markdown",
      "metadata": {},
      "source": [
        "# Preprocessing the bullet points"
      ]
    },
    {
      "cell_type": "code",
      "execution_count": 27,
      "metadata": {},
      "outputs": [],
      "source": [
        "#pip install autocorrect"
      ]
    },
    {
      "cell_type": "code",
      "execution_count": 28,
      "metadata": {},
      "outputs": [],
      "source": [
        "from nltk.stem import WordNetLemmatizer, SnowballStemmer\n",
        "from autocorrect import Speller"
      ]
    },
    {
      "cell_type": "code",
      "execution_count": 29,
      "metadata": {},
      "outputs": [],
      "source": [
        "import multiprocessing"
      ]
    },
    {
      "cell_type": "code",
      "execution_count": 30,
      "metadata": {},
      "outputs": [],
      "source": [
        "# function to preprocess bullet points\n",
        "def preprocess_bp(text):\n",
        "    # convert text to lowercase\n",
        "    text = text.lower()\n",
        "\n",
        "    # remove HTML tags\n",
        "    text = re.sub('<.*?>', '', text)\n",
        "\n",
        "    # remove URLs and email addresses\n",
        "    text = re.sub(r'\\S+@\\S+', '', text)\n",
        "    text = re.sub(r'http\\S+', '', text)\n",
        "\n",
        "    # remove non-alphanumeric characters\n",
        "    text = re.sub(r'[^a-zA-Z0-9\\s]', '', text)\n",
        "\n",
        "    # tokenize the text\n",
        "    tokens = word_tokenize(text)\n",
        "\n",
        "    # remove stopwords\n",
        "    stop_words = set(stopwords.words('english'))\n",
        "    tokens = [word for word in tokens if word not in stop_words]\n",
        "\n",
        "    # spell correction\n",
        "    spell = Speller(lang='en')\n",
        "    tokens = [spell(word) for word in tokens]\n",
        "\n",
        "    # stemming\n",
        "    stemmer = SnowballStemmer('english')\n",
        "    tokens = [stemmer.stem(word) for word in tokens]\n",
        "\n",
        "    # join the tokens back into a string\n",
        "    text = ' '.join(tokens)\n",
        "\n",
        "    return text\n"
      ]
    },
    {
      "cell_type": "code",
      "execution_count": 32,
      "metadata": {},
      "outputs": [],
      "source": [
        "# function to preprocess text data in chunks\n",
        "def preprocess_data_in_chunks(data, chunk_size):\n",
        "    # get number of available processors\n",
        "    num_processors = multiprocessing.cpu_count()\n",
        "\n",
        "    # create multiprocessing pool\n",
        "    pool = multiprocessing.Pool(processes=num_processors)\n",
        "\n",
        "    # get number of chunks\n",
        "    num_chunks = int(len(data) / chunk_size) + 1\n",
        "\n",
        "    # process data in chunks\n",
        "    for i in tqdm(range(num_chunks)):\n",
        "        start = i * chunk_size\n",
        "        end = start + chunk_size\n",
        "        chunk_data = data[start:end]\n",
        "        preprocessed_data = pool.map(preprocess_bp, chunk_data)\n",
        "        data[start:end] = preprocessed_data\n",
        "\n",
        "    # close multiprocessing pool\n",
        "    pool.close()\n",
        "\n",
        "    return data\n"
      ]
    },
    {
      "cell_type": "code",
      "execution_count": 33,
      "metadata": {},
      "outputs": [
        {
          "name": "stderr",
          "output_type": "stream",
          "text": [
            "  0%|          | 0/208 [00:00<?, ?it/s]"
          ]
        }
      ],
      "source": [
        "# preprocess bullet points in chunks\n",
        "chunk_size = 5000\n",
        "train_data['bullet_points'] = preprocess_data_in_chunks(list(train_data['bullet_points']), chunk_size)\n"
      ]
    },
    {
      "cell_type": "code",
      "execution_count": null,
      "metadata": {},
      "outputs": [
        {
          "data": {
            "text/plain": [
              "2    [Loud Dual Tone Trumpet Horn, Compatible With ...\n",
              "3    [Made By 95%cotton and 5% Lycra which gives yo...\n",
              "5    [Simple and elegant, great for displaying indo...\n",
              "7    [HIGH QUALITY PVC MATERIAL: The kitchen alumin...\n",
              "9    [100% Pure And Natural Essential Oil Or Fragra...\n",
              "Name: bullet_points, dtype: object"
            ]
          },
          "execution_count": 33,
          "metadata": {},
          "output_type": "execute_result"
        }
      ],
      "source": [
        "train_data['bullet_points'].head()"
      ]
    },
    {
      "cell_type": "code",
      "execution_count": null,
      "metadata": {},
      "outputs": [],
      "source": [
        "#train_data.to_csv('processed_data.csv', index=False)"
      ]
    },
    {
      "cell_type": "code",
      "execution_count": 1,
      "metadata": {},
      "outputs": [
        {
          "ename": "NameError",
          "evalue": "name 'train_data' is not defined",
          "output_type": "error",
          "traceback": [
            "\u001b[1;31m---------------------------------------------------------------------------\u001b[0m",
            "\u001b[1;31mNameError\u001b[0m                                 Traceback (most recent call last)",
            "\u001b[1;32mc:\\Users\\rctuh\\Desktop\\amazon_ml_challenge\\F1_wizards_submission_remote.ipynb Cell 41\u001b[0m in \u001b[0;36m<cell line: 1>\u001b[1;34m()\u001b[0m\n\u001b[1;32m----> <a href='vscode-notebook-cell:/c%3A/Users/rctuh/Desktop/amazon_ml_challenge/F1_wizards_submission_remote.ipynb#X55sZmlsZQ%3D%3D?line=0'>1</a>\u001b[0m train_data\u001b[39m.\u001b[39mhead()\n",
            "\u001b[1;31mNameError\u001b[0m: name 'train_data' is not defined"
          ]
        }
      ],
      "source": [
        "train_data.head()"
      ]
    },
    {
      "cell_type": "code",
      "execution_count": null,
      "metadata": {},
      "outputs": [],
      "source": [
        "#pip install emoji"
      ]
    },
    {
      "cell_type": "code",
      "execution_count": null,
      "metadata": {},
      "outputs": [],
      "source": [
        "#import emoji"
      ]
    },
    {
      "cell_type": "code",
      "execution_count": null,
      "metadata": {},
      "outputs": [],
      "source": [
        "#from tqdm import tqdm"
      ]
    },
    {
      "cell_type": "code",
      "execution_count": null,
      "metadata": {},
      "outputs": [],
      "source": [
        "def remove_emojis(text):\n",
        "    cleaned_text = re.sub(r'@[A-Za-z0-9]+', '', str(text)) # remove @mentions\n",
        "    cleaned_text = re.sub(r'#\\w+', '', cleaned_text) # remove hashtags\n",
        "    cleaned_text = re.sub(r'RT[\\s]+', '', cleaned_text) # remove RT\n",
        "    cleaned_text = re.sub(r'http\\S+', '', cleaned_text) # remove URLs\n",
        "    cleaned_text = re.sub(r'www\\S+', '', cleaned_text) # remove the www\n",
        "    cleaned_text = re.sub(r'twitter+', '', cleaned_text) # remove the twitter\n",
        "    cleaned_text = re.sub(r'pic+', '', cleaned_text) # remove the pic\n",
        "    cleaned_text = re.sub(r'com', '', cleaned_text) # remove the com\n",
        "    emoji_pattern = re.compile(\"[\"\n",
        "                               u\"\\U0001F600-\\U0001F64F\"  # emoticons\n",
        "                               u\"\\U0001F300-\\U0001F5FF\"  # symbols & pictographs\n",
        "                               u\"\\U0001F680-\\U0001F6FF\"  # transport & map symbols\n",
        "                               u\"\\U0001F1E0-\\U0001F1FF\"  # flags (iOS)\n",
        "                               \"]+\", flags=re.UNICODE)\n",
        "    cleaned_text = emoji_pattern.sub(r'', text)\n",
        "    return cleaned_text"
      ]
    },
    {
      "cell_type": "code",
      "execution_count": null,
      "metadata": {},
      "outputs": [
        {
          "name": "stderr",
          "output_type": "stream",
          "text": [
            "100%|██████████| 1038460/1038460 [00:20<00:00, 51896.05it/s]\n"
          ]
        }
      ],
      "source": [
        "for text in tqdm(train_data['bullet_points']):\n",
        "    processed_text = remove_emojis(text)\n"
      ]
    },
    {
      "cell_type": "code",
      "execution_count": null,
      "metadata": {},
      "outputs": [
        {
          "data": {
            "text/html": [
              "<div>\n",
              "<style scoped>\n",
              "    .dataframe tbody tr th:only-of-type {\n",
              "        vertical-align: middle;\n",
              "    }\n",
              "\n",
              "    .dataframe tbody tr th {\n",
              "        vertical-align: top;\n",
              "    }\n",
              "\n",
              "    .dataframe thead th {\n",
              "        text-align: right;\n",
              "    }\n",
              "</style>\n",
              "<table border=\"1\" class=\"dataframe\">\n",
              "  <thead>\n",
              "    <tr style=\"text-align: right;\">\n",
              "      <th></th>\n",
              "      <th>product_id</th>\n",
              "      <th>title</th>\n",
              "      <th>bullet_points</th>\n",
              "      <th>description</th>\n",
              "      <th>product_type_id</th>\n",
              "      <th>product_length</th>\n",
              "    </tr>\n",
              "  </thead>\n",
              "  <tbody>\n",
              "    <tr>\n",
              "      <th>2</th>\n",
              "      <td>2765088</td>\n",
              "      <td>PRIKNIK Horn Red Electric Air Horn Compressor ...</td>\n",
              "      <td>[Loud Dual Tone Trumpet Horn, Compatible With ...</td>\n",
              "      <td>specification color red material aluminium vol...</td>\n",
              "      <td>7537</td>\n",
              "      <td>748.031495</td>\n",
              "    </tr>\n",
              "    <tr>\n",
              "      <th>3</th>\n",
              "      <td>1594019</td>\n",
              "      <td>ALISHAH Women's Cotton Ankle Length Leggings C...</td>\n",
              "      <td>[Made By 95%cotton and 5% Lycra which gives yo...</td>\n",
              "      <td>aishah woman lycra cotton ankel legging brand ...</td>\n",
              "      <td>2996</td>\n",
              "      <td>787.401574</td>\n",
              "    </tr>\n",
              "    <tr>\n",
              "      <th>5</th>\n",
              "      <td>2152929</td>\n",
              "      <td>HINS Metal Bucket Shape Plant Pot for Indoor &amp;...</td>\n",
              "      <td>[Simple and elegant, great for displaying indo...</td>\n",
              "      <td>hin brings elegant looking pot stand durable l...</td>\n",
              "      <td>5725</td>\n",
              "      <td>950.000000</td>\n",
              "    </tr>\n",
              "    <tr>\n",
              "      <th>7</th>\n",
              "      <td>2026580</td>\n",
              "      <td>Delavala Self Adhesive Kitchen Backsplash Wall...</td>\n",
              "      <td>[HIGH QUALITY PVC MATERIAL: The kitchen alumin...</td>\n",
              "      <td>aluminum foil stickersgood kitchen helper mom ...</td>\n",
              "      <td>6030</td>\n",
              "      <td>984.251967</td>\n",
              "    </tr>\n",
              "    <tr>\n",
              "      <th>9</th>\n",
              "      <td>2998633</td>\n",
              "      <td>Hexwell Essential oil for Home Fragrance Oil A...</td>\n",
              "      <td>[100% Pure And Natural Essential Oil Or Fragra...</td>\n",
              "      <td>transform home workplace hotel room personal a...</td>\n",
              "      <td>8201</td>\n",
              "      <td>393.700787</td>\n",
              "    </tr>\n",
              "  </tbody>\n",
              "</table>\n",
              "</div>"
            ],
            "text/plain": [
              "   product_id                                              title  \\\n",
              "2     2765088  PRIKNIK Horn Red Electric Air Horn Compressor ...   \n",
              "3     1594019  ALISHAH Women's Cotton Ankle Length Leggings C...   \n",
              "5     2152929  HINS Metal Bucket Shape Plant Pot for Indoor &...   \n",
              "7     2026580  Delavala Self Adhesive Kitchen Backsplash Wall...   \n",
              "9     2998633  Hexwell Essential oil for Home Fragrance Oil A...   \n",
              "\n",
              "                                       bullet_points  \\\n",
              "2  [Loud Dual Tone Trumpet Horn, Compatible With ...   \n",
              "3  [Made By 95%cotton and 5% Lycra which gives yo...   \n",
              "5  [Simple and elegant, great for displaying indo...   \n",
              "7  [HIGH QUALITY PVC MATERIAL: The kitchen alumin...   \n",
              "9  [100% Pure And Natural Essential Oil Or Fragra...   \n",
              "\n",
              "                                         description  product_type_id  \\\n",
              "2  specification color red material aluminium vol...             7537   \n",
              "3  aishah woman lycra cotton ankel legging brand ...             2996   \n",
              "5  hin brings elegant looking pot stand durable l...             5725   \n",
              "7  aluminum foil stickersgood kitchen helper mom ...             6030   \n",
              "9  transform home workplace hotel room personal a...             8201   \n",
              "\n",
              "   product_length  \n",
              "2      748.031495  \n",
              "3      787.401574  \n",
              "5      950.000000  \n",
              "7      984.251967  \n",
              "9      393.700787  "
            ]
          },
          "execution_count": 42,
          "metadata": {},
          "output_type": "execute_result"
        }
      ],
      "source": [
        "train_data.head()"
      ]
    },
    {
      "cell_type": "code",
      "execution_count": null,
      "metadata": {},
      "outputs": [],
      "source": [
        "train_data.to_csv('processed_data_emoji.csv', index=False)"
      ]
    },
    {
      "attachments": {},
      "cell_type": "markdown",
      "metadata": {},
      "source": [
        "## Preprocessing the Test Data"
      ]
    },
    {
      "cell_type": "code",
      "execution_count": null,
      "metadata": {},
      "outputs": [
        {
          "data": {
            "text/html": [
              "<div>\n",
              "<style scoped>\n",
              "    .dataframe tbody tr th:only-of-type {\n",
              "        vertical-align: middle;\n",
              "    }\n",
              "\n",
              "    .dataframe tbody tr th {\n",
              "        vertical-align: top;\n",
              "    }\n",
              "\n",
              "    .dataframe thead th {\n",
              "        text-align: right;\n",
              "    }\n",
              "</style>\n",
              "<table border=\"1\" class=\"dataframe\">\n",
              "  <thead>\n",
              "    <tr style=\"text-align: right;\">\n",
              "      <th></th>\n",
              "      <th>PRODUCT_ID</th>\n",
              "      <th>TITLE</th>\n",
              "      <th>BULLET_POINTS</th>\n",
              "      <th>DESCRIPTION</th>\n",
              "      <th>PRODUCT_TYPE_ID</th>\n",
              "    </tr>\n",
              "  </thead>\n",
              "  <tbody>\n",
              "    <tr>\n",
              "      <th>0</th>\n",
              "      <td>604373</td>\n",
              "      <td>Manuel d'Héliogravure Et de Photogravure En Re...</td>\n",
              "      <td>NaN</td>\n",
              "      <td>NaN</td>\n",
              "      <td>6142</td>\n",
              "    </tr>\n",
              "    <tr>\n",
              "      <th>1</th>\n",
              "      <td>1729783</td>\n",
              "      <td>DCGARING Microfiber Throw Blanket Warm Fuzzy P...</td>\n",
              "      <td>[QUALITY GUARANTEED: Luxury cozy plush polyest...</td>\n",
              "      <td>&lt;b&gt;DCGARING Throw Blanket&lt;/b&gt;&lt;br&gt;&lt;br&gt; &lt;b&gt;Size ...</td>\n",
              "      <td>1622</td>\n",
              "    </tr>\n",
              "    <tr>\n",
              "      <th>2</th>\n",
              "      <td>1871949</td>\n",
              "      <td>I-Match Auto Parts Front License Plate Bracket...</td>\n",
              "      <td>[Front License Plate Bracket Made Of Plastic,D...</td>\n",
              "      <td>Replacement for The Following Vehicles:2020 LE...</td>\n",
              "      <td>7540</td>\n",
              "    </tr>\n",
              "    <tr>\n",
              "      <th>3</th>\n",
              "      <td>1107571</td>\n",
              "      <td>PinMart Gold Plated Excellence in Service 1 Ye...</td>\n",
              "      <td>[Available as a single item or bulk packed. Se...</td>\n",
              "      <td>Our Excellence in Service Lapel Pins feature a...</td>\n",
              "      <td>12442</td>\n",
              "    </tr>\n",
              "    <tr>\n",
              "      <th>4</th>\n",
              "      <td>624253</td>\n",
              "      <td>Visual Mathematics, Illustrated by the TI-92 a...</td>\n",
              "      <td>NaN</td>\n",
              "      <td>NaN</td>\n",
              "      <td>6318</td>\n",
              "    </tr>\n",
              "  </tbody>\n",
              "</table>\n",
              "</div>"
            ],
            "text/plain": [
              "   PRODUCT_ID                                              TITLE  \\\n",
              "0      604373  Manuel d'Héliogravure Et de Photogravure En Re...   \n",
              "1     1729783  DCGARING Microfiber Throw Blanket Warm Fuzzy P...   \n",
              "2     1871949  I-Match Auto Parts Front License Plate Bracket...   \n",
              "3     1107571  PinMart Gold Plated Excellence in Service 1 Ye...   \n",
              "4      624253  Visual Mathematics, Illustrated by the TI-92 a...   \n",
              "\n",
              "                                       BULLET_POINTS  \\\n",
              "0                                                NaN   \n",
              "1  [QUALITY GUARANTEED: Luxury cozy plush polyest...   \n",
              "2  [Front License Plate Bracket Made Of Plastic,D...   \n",
              "3  [Available as a single item or bulk packed. Se...   \n",
              "4                                                NaN   \n",
              "\n",
              "                                         DESCRIPTION  PRODUCT_TYPE_ID  \n",
              "0                                                NaN             6142  \n",
              "1  <b>DCGARING Throw Blanket</b><br><br> <b>Size ...             1622  \n",
              "2  Replacement for The Following Vehicles:2020 LE...             7540  \n",
              "3  Our Excellence in Service Lapel Pins feature a...            12442  \n",
              "4                                                NaN             6318  "
            ]
          },
          "execution_count": 8,
          "metadata": {},
          "output_type": "execute_result"
        }
      ],
      "source": [
        "test_data.head()"
      ]
    },
    {
      "cell_type": "code",
      "execution_count": null,
      "metadata": {},
      "outputs": [
        {
          "data": {
            "text/plain": [
              "(734736, 5)"
            ]
          },
          "execution_count": 9,
          "metadata": {},
          "output_type": "execute_result"
        }
      ],
      "source": [
        "test_data.shape"
      ]
    },
    {
      "cell_type": "code",
      "execution_count": null,
      "metadata": {},
      "outputs": [],
      "source": [
        "#Droppping Nan values\n",
        "test_data.dropna(inplace=True)"
      ]
    },
    {
      "cell_type": "code",
      "execution_count": null,
      "metadata": {},
      "outputs": [
        {
          "data": {
            "text/plain": [
              "(337002, 5)"
            ]
          },
          "execution_count": 11,
          "metadata": {},
          "output_type": "execute_result"
        }
      ],
      "source": [
        "test_data.shape"
      ]
    },
    {
      "cell_type": "code",
      "execution_count": null,
      "metadata": {},
      "outputs": [],
      "source": [
        "from tqdm import tqdm"
      ]
    },
    {
      "cell_type": "code",
      "execution_count": null,
      "metadata": {},
      "outputs": [
        {
          "name": "stderr",
          "output_type": "stream",
          "text": [
            "100%|██████████| 337002/337002 [04:32<00:00, 1234.63it/s]\n"
          ]
        }
      ],
      "source": [
        "total_iterations = len(test_data['DESCRIPTION'])\n",
        "\n",
        "for text in tqdm(test_data['DESCRIPTION'], total=total_iterations):\n",
        "    preprocessed_text = preprocess_text(text)"
      ]
    },
    {
      "cell_type": "code",
      "execution_count": null,
      "metadata": {},
      "outputs": [],
      "source": [
        "print(test_data['DESCRIPTION'].head())"
      ]
    }
  ],
  "metadata": {
    "colab": {
      "provenance": []
    },
    "kernelspec": {
      "display_name": "Python 3",
      "name": "python3"
    },
    "language_info": {
      "codemirror_mode": {
        "name": "ipython",
        "version": 3
      },
      "file_extension": ".py",
      "mimetype": "text/x-python",
      "name": "python",
      "nbconvert_exporter": "python",
      "pygments_lexer": "ipython3",
      "version": "3.10.0"
    }
  },
  "nbformat": 4,
  "nbformat_minor": 0
}
