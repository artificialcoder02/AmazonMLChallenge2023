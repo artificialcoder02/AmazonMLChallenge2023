{
  "cells": [
    {
      "cell_type": "code",
      "execution_count": 25,
      "metadata": {
        "id": "XNCT9VdOYe9W"
      },
      "outputs": [],
      "source": [
        "import pandas as pd\n",
        "import tqdm as tqdm"
      ]
    },
    {
      "cell_type": "code",
      "execution_count": 28,
      "metadata": {
        "id": "loFWtVSqY-XS"
      },
      "outputs": [],
      "source": [
        "train_data=pd.read_csv(r'C:\\Users\\rctuh\\Desktop\\amazon_ml_challenge\\dataset\\train.csv')\n",
        "test_data=pd.read_csv(r'C:\\Users\\rctuh\\Desktop\\amazon_ml_challenge\\dataset\\test.csv')\n",
        "validation_data=pd.read_csv(r'C:\\Users\\rctuh\\Desktop\\amazon_ml_challenge\\dataset\\sample_submission.csv')\n",
        "\n"
      ]
    },
    {
      "cell_type": "code",
      "execution_count": 32,
      "metadata": {
        "colab": {
          "base_uri": "https://localhost:8080/",
          "height": 337
        },
        "id": "aXUDAtq4bRLE",
        "outputId": "94dabcf4-ab5b-45e7-9a2c-fa3e843f6b35"
      },
      "outputs": [
        {
          "data": {
            "text/html": [
              "<div>\n",
              "<style scoped>\n",
              "    .dataframe tbody tr th:only-of-type {\n",
              "        vertical-align: middle;\n",
              "    }\n",
              "\n",
              "    .dataframe tbody tr th {\n",
              "        vertical-align: top;\n",
              "    }\n",
              "\n",
              "    .dataframe thead th {\n",
              "        text-align: right;\n",
              "    }\n",
              "</style>\n",
              "<table border=\"1\" class=\"dataframe\">\n",
              "  <thead>\n",
              "    <tr style=\"text-align: right;\">\n",
              "      <th></th>\n",
              "      <th>PRODUCT_ID</th>\n",
              "      <th>TITLE</th>\n",
              "      <th>BULLET_POINTS</th>\n",
              "      <th>DESCRIPTION</th>\n",
              "      <th>PRODUCT_TYPE_ID</th>\n",
              "      <th>PRODUCT_LENGTH</th>\n",
              "    </tr>\n",
              "  </thead>\n",
              "  <tbody>\n",
              "    <tr>\n",
              "      <th>0</th>\n",
              "      <td>1925202</td>\n",
              "      <td>ArtzFolio Tulip Flowers Blackout Curtain for D...</td>\n",
              "      <td>[LUXURIOUS &amp; APPEALING: Beautiful custom-made ...</td>\n",
              "      <td>NaN</td>\n",
              "      <td>1650</td>\n",
              "      <td>2125.980000</td>\n",
              "    </tr>\n",
              "    <tr>\n",
              "      <th>1</th>\n",
              "      <td>2673191</td>\n",
              "      <td>Marks &amp; Spencer Girls' Pyjama Sets T86_2561C_N...</td>\n",
              "      <td>[Harry Potter Hedwig Pyjamas (6-16 Yrs),100% c...</td>\n",
              "      <td>NaN</td>\n",
              "      <td>2755</td>\n",
              "      <td>393.700000</td>\n",
              "    </tr>\n",
              "    <tr>\n",
              "      <th>2</th>\n",
              "      <td>2765088</td>\n",
              "      <td>PRIKNIK Horn Red Electric Air Horn Compressor ...</td>\n",
              "      <td>[Loud Dual Tone Trumpet Horn, Compatible With ...</td>\n",
              "      <td>Specifications: Color: Red, Material: Aluminiu...</td>\n",
              "      <td>7537</td>\n",
              "      <td>748.031495</td>\n",
              "    </tr>\n",
              "    <tr>\n",
              "      <th>3</th>\n",
              "      <td>1594019</td>\n",
              "      <td>ALISHAH Women's Cotton Ankle Length Leggings C...</td>\n",
              "      <td>[Made By 95%cotton and 5% Lycra which gives yo...</td>\n",
              "      <td>AISHAH Women's Lycra Cotton Ankel Leggings. Br...</td>\n",
              "      <td>2996</td>\n",
              "      <td>787.401574</td>\n",
              "    </tr>\n",
              "    <tr>\n",
              "      <th>4</th>\n",
              "      <td>283658</td>\n",
              "      <td>The United Empire Loyalists: A Chronicle of th...</td>\n",
              "      <td>NaN</td>\n",
              "      <td>NaN</td>\n",
              "      <td>6112</td>\n",
              "      <td>598.424000</td>\n",
              "    </tr>\n",
              "  </tbody>\n",
              "</table>\n",
              "</div>"
            ],
            "text/plain": [
              "   PRODUCT_ID                                              TITLE  \\\n",
              "0     1925202  ArtzFolio Tulip Flowers Blackout Curtain for D...   \n",
              "1     2673191  Marks & Spencer Girls' Pyjama Sets T86_2561C_N...   \n",
              "2     2765088  PRIKNIK Horn Red Electric Air Horn Compressor ...   \n",
              "3     1594019  ALISHAH Women's Cotton Ankle Length Leggings C...   \n",
              "4      283658  The United Empire Loyalists: A Chronicle of th...   \n",
              "\n",
              "                                       BULLET_POINTS  \\\n",
              "0  [LUXURIOUS & APPEALING: Beautiful custom-made ...   \n",
              "1  [Harry Potter Hedwig Pyjamas (6-16 Yrs),100% c...   \n",
              "2  [Loud Dual Tone Trumpet Horn, Compatible With ...   \n",
              "3  [Made By 95%cotton and 5% Lycra which gives yo...   \n",
              "4                                                NaN   \n",
              "\n",
              "                                         DESCRIPTION  PRODUCT_TYPE_ID  \\\n",
              "0                                                NaN             1650   \n",
              "1                                                NaN             2755   \n",
              "2  Specifications: Color: Red, Material: Aluminiu...             7537   \n",
              "3  AISHAH Women's Lycra Cotton Ankel Leggings. Br...             2996   \n",
              "4                                                NaN             6112   \n",
              "\n",
              "   PRODUCT_LENGTH  \n",
              "0     2125.980000  \n",
              "1      393.700000  \n",
              "2      748.031495  \n",
              "3      787.401574  \n",
              "4      598.424000  "
            ]
          },
          "execution_count": 32,
          "metadata": {},
          "output_type": "execute_result"
        }
      ],
      "source": [
        "train_data.head()"
      ]
    },
    {
      "cell_type": "code",
      "execution_count": 33,
      "metadata": {
        "colab": {
          "base_uri": "https://localhost:8080/"
        },
        "id": "pcvU9wsybUE0",
        "outputId": "9a3659ad-f8d9-4254-e034-53991798e9f7"
      },
      "outputs": [
        {
          "data": {
            "text/plain": [
              "(2249698, 6)"
            ]
          },
          "execution_count": 33,
          "metadata": {},
          "output_type": "execute_result"
        }
      ],
      "source": [
        "train_data.shape"
      ]
    },
    {
      "cell_type": "code",
      "execution_count": 34,
      "metadata": {
        "colab": {
          "base_uri": "https://localhost:8080/",
          "height": 337
        },
        "id": "z_uQsndlk1GP",
        "outputId": "a55b9c0d-2802-46fe-ceea-277e0c071ccc"
      },
      "outputs": [
        {
          "data": {
            "text/html": [
              "<div>\n",
              "<style scoped>\n",
              "    .dataframe tbody tr th:only-of-type {\n",
              "        vertical-align: middle;\n",
              "    }\n",
              "\n",
              "    .dataframe tbody tr th {\n",
              "        vertical-align: top;\n",
              "    }\n",
              "\n",
              "    .dataframe thead th {\n",
              "        text-align: right;\n",
              "    }\n",
              "</style>\n",
              "<table border=\"1\" class=\"dataframe\">\n",
              "  <thead>\n",
              "    <tr style=\"text-align: right;\">\n",
              "      <th></th>\n",
              "      <th>PRODUCT_ID</th>\n",
              "      <th>TITLE</th>\n",
              "      <th>BULLET_POINTS</th>\n",
              "      <th>DESCRIPTION</th>\n",
              "      <th>PRODUCT_TYPE_ID</th>\n",
              "    </tr>\n",
              "  </thead>\n",
              "  <tbody>\n",
              "    <tr>\n",
              "      <th>0</th>\n",
              "      <td>604373</td>\n",
              "      <td>Manuel d'Héliogravure Et de Photogravure En Re...</td>\n",
              "      <td>NaN</td>\n",
              "      <td>NaN</td>\n",
              "      <td>6142</td>\n",
              "    </tr>\n",
              "    <tr>\n",
              "      <th>1</th>\n",
              "      <td>1729783</td>\n",
              "      <td>DCGARING Microfiber Throw Blanket Warm Fuzzy P...</td>\n",
              "      <td>[QUALITY GUARANTEED: Luxury cozy plush polyest...</td>\n",
              "      <td>&lt;b&gt;DCGARING Throw Blanket&lt;/b&gt;&lt;br&gt;&lt;br&gt; &lt;b&gt;Size ...</td>\n",
              "      <td>1622</td>\n",
              "    </tr>\n",
              "    <tr>\n",
              "      <th>2</th>\n",
              "      <td>1871949</td>\n",
              "      <td>I-Match Auto Parts Front License Plate Bracket...</td>\n",
              "      <td>[Front License Plate Bracket Made Of Plastic,D...</td>\n",
              "      <td>Replacement for The Following Vehicles:2020 LE...</td>\n",
              "      <td>7540</td>\n",
              "    </tr>\n",
              "    <tr>\n",
              "      <th>3</th>\n",
              "      <td>1107571</td>\n",
              "      <td>PinMart Gold Plated Excellence in Service 1 Ye...</td>\n",
              "      <td>[Available as a single item or bulk packed. Se...</td>\n",
              "      <td>Our Excellence in Service Lapel Pins feature a...</td>\n",
              "      <td>12442</td>\n",
              "    </tr>\n",
              "    <tr>\n",
              "      <th>4</th>\n",
              "      <td>624253</td>\n",
              "      <td>Visual Mathematics, Illustrated by the TI-92 a...</td>\n",
              "      <td>NaN</td>\n",
              "      <td>NaN</td>\n",
              "      <td>6318</td>\n",
              "    </tr>\n",
              "  </tbody>\n",
              "</table>\n",
              "</div>"
            ],
            "text/plain": [
              "   PRODUCT_ID                                              TITLE  \\\n",
              "0      604373  Manuel d'Héliogravure Et de Photogravure En Re...   \n",
              "1     1729783  DCGARING Microfiber Throw Blanket Warm Fuzzy P...   \n",
              "2     1871949  I-Match Auto Parts Front License Plate Bracket...   \n",
              "3     1107571  PinMart Gold Plated Excellence in Service 1 Ye...   \n",
              "4      624253  Visual Mathematics, Illustrated by the TI-92 a...   \n",
              "\n",
              "                                       BULLET_POINTS  \\\n",
              "0                                                NaN   \n",
              "1  [QUALITY GUARANTEED: Luxury cozy plush polyest...   \n",
              "2  [Front License Plate Bracket Made Of Plastic,D...   \n",
              "3  [Available as a single item or bulk packed. Se...   \n",
              "4                                                NaN   \n",
              "\n",
              "                                         DESCRIPTION  PRODUCT_TYPE_ID  \n",
              "0                                                NaN             6142  \n",
              "1  <b>DCGARING Throw Blanket</b><br><br> <b>Size ...             1622  \n",
              "2  Replacement for The Following Vehicles:2020 LE...             7540  \n",
              "3  Our Excellence in Service Lapel Pins feature a...            12442  \n",
              "4                                                NaN             6318  "
            ]
          },
          "execution_count": 34,
          "metadata": {},
          "output_type": "execute_result"
        }
      ],
      "source": [
        "test_data.head()"
      ]
    },
    {
      "cell_type": "code",
      "execution_count": 35,
      "metadata": {
        "colab": {
          "base_uri": "https://localhost:8080/"
        },
        "id": "fVfELvwulDne",
        "outputId": "80584a4f-7733-4a0c-f02f-93641ed61599"
      },
      "outputs": [
        {
          "data": {
            "text/plain": [
              "(734736, 5)"
            ]
          },
          "execution_count": 35,
          "metadata": {},
          "output_type": "execute_result"
        }
      ],
      "source": [
        "test_data.shape"
      ]
    },
    {
      "cell_type": "markdown",
      "metadata": {
        "id": "Sj3GCUXDcfrG"
      },
      "source": [
        "#Data Preprocessing"
      ]
    },
    {
      "cell_type": "code",
      "execution_count": 36,
      "metadata": {
        "id": "m-ZOhtrWbbA2"
      },
      "outputs": [],
      "source": [
        "from sklearn.preprocessing import OneHotEncoder\n",
        "from sklearn.impute import SimpleImputer\n",
        "from sklearn.feature_extraction.text import CountVectorizer\n",
        "from sklearn.compose import ColumnTransformer\n",
        "from sklearn.pipeline import Pipeline\n",
        "from sklearn.preprocessing import StandardScaler\n"
      ]
    },
    {
      "cell_type": "code",
      "execution_count": 37,
      "metadata": {
        "id": "dlmafjb9lLWq"
      },
      "outputs": [],
      "source": [
        "#Droppping Nan values\n",
        "train_data.dropna(inplace=True)"
      ]
    },
    {
      "cell_type": "code",
      "execution_count": 38,
      "metadata": {
        "colab": {
          "base_uri": "https://localhost:8080/",
          "height": 1735
        },
        "id": "7n-ewXbMlYOI",
        "outputId": "f7940b34-634d-434b-fef5-4be1c42a7ddb"
      },
      "outputs": [
        {
          "data": {
            "text/html": [
              "<div>\n",
              "<style scoped>\n",
              "    .dataframe tbody tr th:only-of-type {\n",
              "        vertical-align: middle;\n",
              "    }\n",
              "\n",
              "    .dataframe tbody tr th {\n",
              "        vertical-align: top;\n",
              "    }\n",
              "\n",
              "    .dataframe thead th {\n",
              "        text-align: right;\n",
              "    }\n",
              "</style>\n",
              "<table border=\"1\" class=\"dataframe\">\n",
              "  <thead>\n",
              "    <tr style=\"text-align: right;\">\n",
              "      <th></th>\n",
              "      <th>PRODUCT_ID</th>\n",
              "      <th>TITLE</th>\n",
              "      <th>BULLET_POINTS</th>\n",
              "      <th>DESCRIPTION</th>\n",
              "      <th>PRODUCT_TYPE_ID</th>\n",
              "      <th>PRODUCT_LENGTH</th>\n",
              "    </tr>\n",
              "  </thead>\n",
              "  <tbody>\n",
              "    <tr>\n",
              "      <th>2</th>\n",
              "      <td>2765088</td>\n",
              "      <td>PRIKNIK Horn Red Electric Air Horn Compressor ...</td>\n",
              "      <td>[Loud Dual Tone Trumpet Horn, Compatible With ...</td>\n",
              "      <td>Specifications: Color: Red, Material: Aluminiu...</td>\n",
              "      <td>7537</td>\n",
              "      <td>748.031495</td>\n",
              "    </tr>\n",
              "    <tr>\n",
              "      <th>3</th>\n",
              "      <td>1594019</td>\n",
              "      <td>ALISHAH Women's Cotton Ankle Length Leggings C...</td>\n",
              "      <td>[Made By 95%cotton and 5% Lycra which gives yo...</td>\n",
              "      <td>AISHAH Women's Lycra Cotton Ankel Leggings. Br...</td>\n",
              "      <td>2996</td>\n",
              "      <td>787.401574</td>\n",
              "    </tr>\n",
              "    <tr>\n",
              "      <th>5</th>\n",
              "      <td>2152929</td>\n",
              "      <td>HINS Metal Bucket Shape Plant Pot for Indoor &amp;...</td>\n",
              "      <td>[Simple and elegant, great for displaying indo...</td>\n",
              "      <td>HINS Brings you the most Elegant Looking Pot w...</td>\n",
              "      <td>5725</td>\n",
              "      <td>950.000000</td>\n",
              "    </tr>\n",
              "    <tr>\n",
              "      <th>7</th>\n",
              "      <td>2026580</td>\n",
              "      <td>Delavala Self Adhesive Kitchen Backsplash Wall...</td>\n",
              "      <td>[HIGH QUALITY PVC MATERIAL: The kitchen alumin...</td>\n",
              "      <td>&lt;p&gt;&lt;strong&gt;Aluminum Foil Stickers-good kitchen...</td>\n",
              "      <td>6030</td>\n",
              "      <td>984.251967</td>\n",
              "    </tr>\n",
              "    <tr>\n",
              "      <th>9</th>\n",
              "      <td>2998633</td>\n",
              "      <td>Hexwell Essential oil for Home Fragrance Oil A...</td>\n",
              "      <td>[100% Pure And Natural Essential Oil Or Fragra...</td>\n",
              "      <td>Transform your home, workplace or hotel room i...</td>\n",
              "      <td>8201</td>\n",
              "      <td>393.700787</td>\n",
              "    </tr>\n",
              "  </tbody>\n",
              "</table>\n",
              "</div>"
            ],
            "text/plain": [
              "   PRODUCT_ID                                              TITLE  \\\n",
              "2     2765088  PRIKNIK Horn Red Electric Air Horn Compressor ...   \n",
              "3     1594019  ALISHAH Women's Cotton Ankle Length Leggings C...   \n",
              "5     2152929  HINS Metal Bucket Shape Plant Pot for Indoor &...   \n",
              "7     2026580  Delavala Self Adhesive Kitchen Backsplash Wall...   \n",
              "9     2998633  Hexwell Essential oil for Home Fragrance Oil A...   \n",
              "\n",
              "                                       BULLET_POINTS  \\\n",
              "2  [Loud Dual Tone Trumpet Horn, Compatible With ...   \n",
              "3  [Made By 95%cotton and 5% Lycra which gives yo...   \n",
              "5  [Simple and elegant, great for displaying indo...   \n",
              "7  [HIGH QUALITY PVC MATERIAL: The kitchen alumin...   \n",
              "9  [100% Pure And Natural Essential Oil Or Fragra...   \n",
              "\n",
              "                                         DESCRIPTION  PRODUCT_TYPE_ID  \\\n",
              "2  Specifications: Color: Red, Material: Aluminiu...             7537   \n",
              "3  AISHAH Women's Lycra Cotton Ankel Leggings. Br...             2996   \n",
              "5  HINS Brings you the most Elegant Looking Pot w...             5725   \n",
              "7  <p><strong>Aluminum Foil Stickers-good kitchen...             6030   \n",
              "9  Transform your home, workplace or hotel room i...             8201   \n",
              "\n",
              "   PRODUCT_LENGTH  \n",
              "2      748.031495  \n",
              "3      787.401574  \n",
              "5      950.000000  \n",
              "7      984.251967  \n",
              "9      393.700787  "
            ]
          },
          "execution_count": 38,
          "metadata": {},
          "output_type": "execute_result"
        }
      ],
      "source": [
        "train_data.head()"
      ]
    },
    {
      "cell_type": "code",
      "execution_count": 39,
      "metadata": {
        "colab": {
          "base_uri": "https://localhost:8080/"
        },
        "id": "BbDiZfGFlcei",
        "outputId": "ffcde1fc-53e2-4d3d-d4f7-2300c5dbabba"
      },
      "outputs": [
        {
          "data": {
            "text/plain": [
              "(1038460, 6)"
            ]
          },
          "execution_count": 39,
          "metadata": {},
          "output_type": "execute_result"
        }
      ],
      "source": [
        "train_data.shape"
      ]
    },
    {
      "attachments": {},
      "cell_type": "markdown",
      "metadata": {
        "id": "_qfq8KRVmi9z"
      },
      "source": [
        "## Preprocessing the Product Desciption Column"
      ]
    },
    {
      "cell_type": "code",
      "execution_count": 41,
      "metadata": {
        "id": "j3dN0NGAmoPA"
      },
      "outputs": [],
      "source": [
        "import re\n",
        "import string\n",
        "from nltk.corpus import stopwords\n",
        "from nltk.tokenize import word_tokenize\n",
        "from nltk.stem import WordNetLemmatizer"
      ]
    },
    {
      "cell_type": "code",
      "execution_count": 42,
      "metadata": {
        "id": "1QdSyEa9nB8s"
      },
      "outputs": [],
      "source": [
        "import nltk"
      ]
    },
    {
      "cell_type": "code",
      "execution_count": 46,
      "metadata": {
        "colab": {
          "base_uri": "https://localhost:8080/"
        },
        "id": "T32Fi_jSnEQJ",
        "outputId": "14fe2b53-f8d9-4865-ef31-9498a189c25a"
      },
      "outputs": [],
      "source": [
        "#nltk.download('punkt')\n",
        "#nltk.download('stopwords')\n",
        "#nltk.download('wordnet')\n",
        "#nltk.download('omw-1.4')"
      ]
    },
    {
      "cell_type": "code",
      "execution_count": 47,
      "metadata": {
        "id": "f-HPrf50mr1P"
      },
      "outputs": [],
      "source": [
        "def preprocess_text(text):\n",
        "    # convert text to lowercase\n",
        "    text = text.lower()\n",
        "    \n",
        "    # remove HTML tags\n",
        "    text = re.sub('<.*?>', '', text)\n",
        "    \n",
        "    # remove punctuation\n",
        "    text = text.translate(str.maketrans('', '', string.punctuation))\n",
        "    \n",
        "    # tokenize the text\n",
        "    tokens = word_tokenize(text)\n",
        "    \n",
        "    # remove stopwords\n",
        "    stop_words = set(stopwords.words('english'))\n",
        "    tokens = [word for word in tokens if word not in stop_words]\n",
        "    \n",
        "    # lemmatize the tokens\n",
        "    lemmatizer = WordNetLemmatizer()\n",
        "    tokens = [lemmatizer.lemmatize(word) for word in tokens]\n",
        "    \n",
        "    # join the tokens back into a string\n",
        "    text = ' '.join(tokens)\n",
        "    \n",
        "    return text"
      ]
    },
    {
      "cell_type": "code",
      "execution_count": 45,
      "metadata": {},
      "outputs": [],
      "source": [
        "from tqdm import tqdm"
      ]
    },
    {
      "cell_type": "code",
      "execution_count": 48,
      "metadata": {},
      "outputs": [
        {
          "name": "stderr",
          "output_type": "stream",
          "text": [
            "100%|██████████| 1038460/1038460 [13:27<00:00, 1286.16it/s]\n"
          ]
        }
      ],
      "source": [
        "total_iterations = len(train_data['DESCRIPTION'])\n",
        "\n",
        "for text in tqdm(train_data['DESCRIPTION'], total=total_iterations):\n",
        "    preprocessed_text = preprocess_text(text)"
      ]
    },
    {
      "cell_type": "code",
      "execution_count": 15,
      "metadata": {
        "id": "vc5R_DQxmvGb"
      },
      "outputs": [],
      "source": [
        "##train_data['DESCRIPTION'] = train_data['DESCRIPTION'].apply(preprocess_text)"
      ]
    },
    {
      "cell_type": "code",
      "execution_count": 50,
      "metadata": {},
      "outputs": [
        {
          "name": "stdout",
          "output_type": "stream",
          "text": [
            "2    Specifications: Color: Red, Material: Aluminiu...\n",
            "3    AISHAH Women's Lycra Cotton Ankel Leggings. Br...\n",
            "5    HINS Brings you the most Elegant Looking Pot w...\n",
            "7    <p><strong>Aluminum Foil Stickers-good kitchen...\n",
            "9    Transform your home, workplace or hotel room i...\n",
            "Name: DESCRIPTION, dtype: object\n"
          ]
        }
      ],
      "source": [
        "print(train_data['DESCRIPTION'].head())"
      ]
    },
    {
      "cell_type": "code",
      "execution_count": 51,
      "metadata": {},
      "outputs": [
        {
          "data": {
            "text/html": [
              "<div>\n",
              "<style scoped>\n",
              "    .dataframe tbody tr th:only-of-type {\n",
              "        vertical-align: middle;\n",
              "    }\n",
              "\n",
              "    .dataframe tbody tr th {\n",
              "        vertical-align: top;\n",
              "    }\n",
              "\n",
              "    .dataframe thead th {\n",
              "        text-align: right;\n",
              "    }\n",
              "</style>\n",
              "<table border=\"1\" class=\"dataframe\">\n",
              "  <thead>\n",
              "    <tr style=\"text-align: right;\">\n",
              "      <th></th>\n",
              "      <th>PRODUCT_ID</th>\n",
              "      <th>TITLE</th>\n",
              "      <th>BULLET_POINTS</th>\n",
              "      <th>DESCRIPTION</th>\n",
              "      <th>PRODUCT_TYPE_ID</th>\n",
              "      <th>PRODUCT_LENGTH</th>\n",
              "    </tr>\n",
              "  </thead>\n",
              "  <tbody>\n",
              "    <tr>\n",
              "      <th>2</th>\n",
              "      <td>2765088</td>\n",
              "      <td>PRIKNIK Horn Red Electric Air Horn Compressor ...</td>\n",
              "      <td>[Loud Dual Tone Trumpet Horn, Compatible With ...</td>\n",
              "      <td>Specifications: Color: Red, Material: Aluminiu...</td>\n",
              "      <td>7537</td>\n",
              "      <td>748.031495</td>\n",
              "    </tr>\n",
              "    <tr>\n",
              "      <th>3</th>\n",
              "      <td>1594019</td>\n",
              "      <td>ALISHAH Women's Cotton Ankle Length Leggings C...</td>\n",
              "      <td>[Made By 95%cotton and 5% Lycra which gives yo...</td>\n",
              "      <td>AISHAH Women's Lycra Cotton Ankel Leggings. Br...</td>\n",
              "      <td>2996</td>\n",
              "      <td>787.401574</td>\n",
              "    </tr>\n",
              "    <tr>\n",
              "      <th>5</th>\n",
              "      <td>2152929</td>\n",
              "      <td>HINS Metal Bucket Shape Plant Pot for Indoor &amp;...</td>\n",
              "      <td>[Simple and elegant, great for displaying indo...</td>\n",
              "      <td>HINS Brings you the most Elegant Looking Pot w...</td>\n",
              "      <td>5725</td>\n",
              "      <td>950.000000</td>\n",
              "    </tr>\n",
              "    <tr>\n",
              "      <th>7</th>\n",
              "      <td>2026580</td>\n",
              "      <td>Delavala Self Adhesive Kitchen Backsplash Wall...</td>\n",
              "      <td>[HIGH QUALITY PVC MATERIAL: The kitchen alumin...</td>\n",
              "      <td>&lt;p&gt;&lt;strong&gt;Aluminum Foil Stickers-good kitchen...</td>\n",
              "      <td>6030</td>\n",
              "      <td>984.251967</td>\n",
              "    </tr>\n",
              "    <tr>\n",
              "      <th>9</th>\n",
              "      <td>2998633</td>\n",
              "      <td>Hexwell Essential oil for Home Fragrance Oil A...</td>\n",
              "      <td>[100% Pure And Natural Essential Oil Or Fragra...</td>\n",
              "      <td>Transform your home, workplace or hotel room i...</td>\n",
              "      <td>8201</td>\n",
              "      <td>393.700787</td>\n",
              "    </tr>\n",
              "  </tbody>\n",
              "</table>\n",
              "</div>"
            ],
            "text/plain": [
              "   PRODUCT_ID                                              TITLE  \\\n",
              "2     2765088  PRIKNIK Horn Red Electric Air Horn Compressor ...   \n",
              "3     1594019  ALISHAH Women's Cotton Ankle Length Leggings C...   \n",
              "5     2152929  HINS Metal Bucket Shape Plant Pot for Indoor &...   \n",
              "7     2026580  Delavala Self Adhesive Kitchen Backsplash Wall...   \n",
              "9     2998633  Hexwell Essential oil for Home Fragrance Oil A...   \n",
              "\n",
              "                                       BULLET_POINTS  \\\n",
              "2  [Loud Dual Tone Trumpet Horn, Compatible With ...   \n",
              "3  [Made By 95%cotton and 5% Lycra which gives yo...   \n",
              "5  [Simple and elegant, great for displaying indo...   \n",
              "7  [HIGH QUALITY PVC MATERIAL: The kitchen alumin...   \n",
              "9  [100% Pure And Natural Essential Oil Or Fragra...   \n",
              "\n",
              "                                         DESCRIPTION  PRODUCT_TYPE_ID  \\\n",
              "2  Specifications: Color: Red, Material: Aluminiu...             7537   \n",
              "3  AISHAH Women's Lycra Cotton Ankel Leggings. Br...             2996   \n",
              "5  HINS Brings you the most Elegant Looking Pot w...             5725   \n",
              "7  <p><strong>Aluminum Foil Stickers-good kitchen...             6030   \n",
              "9  Transform your home, workplace or hotel room i...             8201   \n",
              "\n",
              "   PRODUCT_LENGTH  \n",
              "2      748.031495  \n",
              "3      787.401574  \n",
              "5      950.000000  \n",
              "7      984.251967  \n",
              "9      393.700787  "
            ]
          },
          "execution_count": 51,
          "metadata": {},
          "output_type": "execute_result"
        }
      ],
      "source": [
        "train_data.head()"
      ]
    },
    {
      "cell_type": "code",
      "execution_count": 52,
      "metadata": {},
      "outputs": [
        {
          "data": {
            "text/plain": [
              "Index(['PRODUCT_ID', 'TITLE', 'BULLET_POINTS', 'DESCRIPTION',\n",
              "       'PRODUCT_TYPE_ID', 'PRODUCT_LENGTH'],\n",
              "      dtype='object')"
            ]
          },
          "execution_count": 52,
          "metadata": {},
          "output_type": "execute_result"
        }
      ],
      "source": [
        "train_data.columns"
      ]
    },
    {
      "attachments": {},
      "cell_type": "markdown",
      "metadata": {},
      "source": [
        "# Renaming the Columns \n",
        "### Just a cosmetic change"
      ]
    },
    {
      "cell_type": "code",
      "execution_count": 53,
      "metadata": {},
      "outputs": [],
      "source": [
        "train_data = train_data.rename(columns={'PRODUCT_ID': 'product_id', 'TITLE': 'title', 'BULLET_POINTS': 'bullet_points', 'DESCRIPTION': 'description', 'PRODUCT_TYPE_ID': 'product_type_id', 'PRODUCT_LENGTH': 'product_length'})"
      ]
    },
    {
      "cell_type": "code",
      "execution_count": 54,
      "metadata": {},
      "outputs": [
        {
          "data": {
            "text/plain": [
              "Index(['product_id', 'title', 'bullet_points', 'description',\n",
              "       'product_type_id', 'product_length'],\n",
              "      dtype='object')"
            ]
          },
          "execution_count": 54,
          "metadata": {},
          "output_type": "execute_result"
        }
      ],
      "source": [
        "train_data.columns"
      ]
    },
    {
      "attachments": {},
      "cell_type": "markdown",
      "metadata": {},
      "source": [
        "# Preprocessing the bullet points"
      ]
    },
    {
      "cell_type": "code",
      "execution_count": 22,
      "metadata": {},
      "outputs": [
        {
          "name": "stdout",
          "output_type": "stream",
          "text": [
            "Collecting autocorrect\n",
            "  Downloading autocorrect-2.6.1.tar.gz (622 kB)\n",
            "     -------------------------------------- 622.8/622.8 kB 1.7 MB/s eta 0:00:00\n",
            "  Preparing metadata (setup.py): started\n",
            "  Preparing metadata (setup.py): finished with status 'done'\n",
            "Building wheels for collected packages: autocorrect\n",
            "  Building wheel for autocorrect (setup.py): started\n",
            "  Building wheel for autocorrect (setup.py): finished with status 'done'\n",
            "  Created wheel for autocorrect: filename=autocorrect-2.6.1-py3-none-any.whl size=622382 sha256=8edf673a880da57d50ab41661423aac6f24bd96a271cbe35152dc042e9c1f147\n",
            "  Stored in directory: c:\\users\\rctuh\\appdata\\local\\pip\\cache\\wheels\\b5\\7b\\6d\\b76b29ce11ff8e2521c8c7dd0e5bfee4fb1789d76193124343\n",
            "Successfully built autocorrect\n",
            "Installing collected packages: autocorrect\n",
            "Successfully installed autocorrect-2.6.1\n",
            "Note: you may need to restart the kernel to use updated packages.\n"
          ]
        },
        {
          "name": "stderr",
          "output_type": "stream",
          "text": [
            "\n",
            "[notice] A new release of pip is available: 23.0 -> 23.1\n",
            "[notice] To update, run: python.exe -m pip install --upgrade pip\n"
          ]
        }
      ],
      "source": [
        "#pip install autocorrect"
      ]
    },
    {
      "cell_type": "code",
      "execution_count": 55,
      "metadata": {},
      "outputs": [],
      "source": [
        "from nltk.stem import WordNetLemmatizer, SnowballStemmer\n",
        "from autocorrect import Speller"
      ]
    },
    {
      "cell_type": "code",
      "execution_count": 56,
      "metadata": {},
      "outputs": [],
      "source": [
        "import multiprocessing"
      ]
    },
    {
      "cell_type": "code",
      "execution_count": 57,
      "metadata": {},
      "outputs": [
        {
          "name": "stderr",
          "output_type": "stream",
          "text": [
            "  0%|          | 0/208 [00:00<?, ?it/s]"
          ]
        }
      ],
      "source": [
        "# function to preprocess bullet points\n",
        "def preprocess_bp(text):\n",
        "    # convert text to lowercase\n",
        "    text = text.lower()\n",
        "\n",
        "    # remove HTML tags\n",
        "    text = re.sub('<.*?>', '', text)\n",
        "\n",
        "    # remove URLs and email addresses\n",
        "    text = re.sub(r'\\S+@\\S+', '', text)\n",
        "    text = re.sub(r'http\\S+', '', text)\n",
        "\n",
        "    # remove non-alphanumeric characters\n",
        "    text = re.sub(r'[^a-zA-Z0-9\\s]', '', text)\n",
        "\n",
        "    # tokenize the text\n",
        "    tokens = word_tokenize(text)\n",
        "\n",
        "    # remove stopwords\n",
        "    stop_words = set(stopwords.words('english'))\n",
        "    tokens = [word for word in tokens if word not in stop_words]\n",
        "\n",
        "    # spell correction\n",
        "    spell = Speller(lang='en')\n",
        "    tokens = [spell(word) for word in tokens]\n",
        "\n",
        "    # stemming\n",
        "    stemmer = SnowballStemmer('english')\n",
        "    tokens = [stemmer.stem(word) for word in tokens]\n",
        "\n",
        "    # join the tokens back into a string\n",
        "    text = ' '.join(tokens)\n",
        "\n",
        "    return text\n",
        "\n",
        "# function to preprocess text data in chunks\n",
        "def preprocess_data_in_chunks(data, chunk_size):\n",
        "    # get number of available processors\n",
        "    num_processors = multiprocessing.cpu_count()\n",
        "\n",
        "    # create multiprocessing pool\n",
        "    pool = multiprocessing.Pool(processes=num_processors)\n",
        "\n",
        "    # get number of chunks\n",
        "    num_chunks = int(len(data) / chunk_size) + 1\n",
        "\n",
        "    # process data in chunks\n",
        "    for i in tqdm(range(num_chunks)):\n",
        "        start = i * chunk_size\n",
        "        end = start + chunk_size\n",
        "        chunk_data = data[start:end]\n",
        "        preprocessed_data = pool.map(preprocess_bp, chunk_data)\n",
        "        data[start:end] = preprocessed_data\n",
        "\n",
        "    # close multiprocessing pool\n",
        "    pool.close()\n",
        "\n",
        "    return data\n",
        "\n",
        "# preprocess bullet points in chunks\n",
        "chunk_size = 5000\n",
        "train_data['bullet_points'] = preprocess_data_in_chunks(list(train_data['bullet_points']), chunk_size)"
      ]
    },
    {
      "cell_type": "code",
      "execution_count": 47,
      "metadata": {},
      "outputs": [
        {
          "data": {
            "text/plain": [
              "2    [Loud Dual Tone Trumpet Horn, Compatible With ...\n",
              "3    [Made By 95%cotton and 5% Lycra which gives yo...\n",
              "5    [Simple and elegant, great for displaying indo...\n",
              "7    [HIGH QUALITY PVC MATERIAL: The kitchen alumin...\n",
              "9    [100% Pure And Natural Essential Oil Or Fragra...\n",
              "Name: bullet_points, dtype: object"
            ]
          },
          "execution_count": 47,
          "metadata": {},
          "output_type": "execute_result"
        }
      ],
      "source": [
        "train_data['bullet_points'].head()"
      ]
    },
    {
      "cell_type": "code",
      "execution_count": 48,
      "metadata": {},
      "outputs": [
        {
          "name": "stderr",
          "output_type": "stream",
          "text": [
            "  0%|          | 10/1038460 [00:10<299:34:29,  1.04s/it]\n"
          ]
        },
        {
          "ename": "KeyboardInterrupt",
          "evalue": "",
          "output_type": "error",
          "traceback": [
            "\u001b[1;31m---------------------------------------------------------------------------\u001b[0m",
            "\u001b[1;31mKeyboardInterrupt\u001b[0m                         Traceback (most recent call last)",
            "\u001b[1;32mc:\\Users\\rctuh\\Desktop\\amazon_ml_challenge\\F1_wizards_submission_remote.ipynb Cell 29\u001b[0m in \u001b[0;36m<cell line: 1>\u001b[1;34m()\u001b[0m\n\u001b[0;32m      <a href='vscode-notebook-cell:/c%3A/Users/rctuh/Desktop/amazon_ml_challenge/F1_wizards_submission_remote.ipynb#X41sZmlsZQ%3D%3D?line=0'>1</a>\u001b[0m \u001b[39mfor\u001b[39;00m text \u001b[39min\u001b[39;00m tqdm(train_data[\u001b[39m'\u001b[39m\u001b[39mbullet_points\u001b[39m\u001b[39m'\u001b[39m]):\n\u001b[1;32m----> <a href='vscode-notebook-cell:/c%3A/Users/rctuh/Desktop/amazon_ml_challenge/F1_wizards_submission_remote.ipynb#X41sZmlsZQ%3D%3D?line=1'>2</a>\u001b[0m     processed_text \u001b[39m=\u001b[39m preprocess_bp(text)\n",
            "\u001b[1;32mc:\\Users\\rctuh\\Desktop\\amazon_ml_challenge\\F1_wizards_submission_remote.ipynb Cell 29\u001b[0m in \u001b[0;36mpreprocess_bp\u001b[1;34m(text)\u001b[0m\n\u001b[0;32m     <a href='vscode-notebook-cell:/c%3A/Users/rctuh/Desktop/amazon_ml_challenge/F1_wizards_submission_remote.ipynb#X41sZmlsZQ%3D%3D?line=21'>22</a>\u001b[0m \u001b[39m# spell correction\u001b[39;00m\n\u001b[0;32m     <a href='vscode-notebook-cell:/c%3A/Users/rctuh/Desktop/amazon_ml_challenge/F1_wizards_submission_remote.ipynb#X41sZmlsZQ%3D%3D?line=22'>23</a>\u001b[0m spell \u001b[39m=\u001b[39m Speller(lang\u001b[39m=\u001b[39m\u001b[39m'\u001b[39m\u001b[39men\u001b[39m\u001b[39m'\u001b[39m)\n\u001b[1;32m---> <a href='vscode-notebook-cell:/c%3A/Users/rctuh/Desktop/amazon_ml_challenge/F1_wizards_submission_remote.ipynb#X41sZmlsZQ%3D%3D?line=23'>24</a>\u001b[0m tokens \u001b[39m=\u001b[39m [spell(word) \u001b[39mfor\u001b[39;00m word \u001b[39min\u001b[39;00m tokens]\n\u001b[0;32m     <a href='vscode-notebook-cell:/c%3A/Users/rctuh/Desktop/amazon_ml_challenge/F1_wizards_submission_remote.ipynb#X41sZmlsZQ%3D%3D?line=25'>26</a>\u001b[0m \u001b[39m# stemming\u001b[39;00m\n\u001b[0;32m     <a href='vscode-notebook-cell:/c%3A/Users/rctuh/Desktop/amazon_ml_challenge/F1_wizards_submission_remote.ipynb#X41sZmlsZQ%3D%3D?line=26'>27</a>\u001b[0m stemmer \u001b[39m=\u001b[39m SnowballStemmer(\u001b[39m'\u001b[39m\u001b[39menglish\u001b[39m\u001b[39m'\u001b[39m)\n",
            "\u001b[1;32mc:\\Users\\rctuh\\Desktop\\amazon_ml_challenge\\F1_wizards_submission_remote.ipynb Cell 29\u001b[0m in \u001b[0;36m<listcomp>\u001b[1;34m(.0)\u001b[0m\n\u001b[0;32m     <a href='vscode-notebook-cell:/c%3A/Users/rctuh/Desktop/amazon_ml_challenge/F1_wizards_submission_remote.ipynb#X41sZmlsZQ%3D%3D?line=21'>22</a>\u001b[0m \u001b[39m# spell correction\u001b[39;00m\n\u001b[0;32m     <a href='vscode-notebook-cell:/c%3A/Users/rctuh/Desktop/amazon_ml_challenge/F1_wizards_submission_remote.ipynb#X41sZmlsZQ%3D%3D?line=22'>23</a>\u001b[0m spell \u001b[39m=\u001b[39m Speller(lang\u001b[39m=\u001b[39m\u001b[39m'\u001b[39m\u001b[39men\u001b[39m\u001b[39m'\u001b[39m)\n\u001b[1;32m---> <a href='vscode-notebook-cell:/c%3A/Users/rctuh/Desktop/amazon_ml_challenge/F1_wizards_submission_remote.ipynb#X41sZmlsZQ%3D%3D?line=23'>24</a>\u001b[0m tokens \u001b[39m=\u001b[39m [spell(word) \u001b[39mfor\u001b[39;00m word \u001b[39min\u001b[39;00m tokens]\n\u001b[0;32m     <a href='vscode-notebook-cell:/c%3A/Users/rctuh/Desktop/amazon_ml_challenge/F1_wizards_submission_remote.ipynb#X41sZmlsZQ%3D%3D?line=25'>26</a>\u001b[0m \u001b[39m# stemming\u001b[39;00m\n\u001b[0;32m     <a href='vscode-notebook-cell:/c%3A/Users/rctuh/Desktop/amazon_ml_challenge/F1_wizards_submission_remote.ipynb#X41sZmlsZQ%3D%3D?line=26'>27</a>\u001b[0m stemmer \u001b[39m=\u001b[39m SnowballStemmer(\u001b[39m'\u001b[39m\u001b[39menglish\u001b[39m\u001b[39m'\u001b[39m)\n",
            "File \u001b[1;32mc:\\Users\\rctuh\\AppData\\Local\\Programs\\Python\\Python310\\lib\\site-packages\\autocorrect\\__init__.py:128\u001b[0m, in \u001b[0;36mSpeller.autocorrect_sentence\u001b[1;34m(self, sentence)\u001b[0m\n\u001b[0;32m    127\u001b[0m \u001b[39mdef\u001b[39;00m \u001b[39mautocorrect_sentence\u001b[39m(\u001b[39mself\u001b[39m, sentence):\n\u001b[1;32m--> 128\u001b[0m     \u001b[39mreturn\u001b[39;00m re\u001b[39m.\u001b[39;49msub(\n\u001b[0;32m    129\u001b[0m         word_regexes[\u001b[39mself\u001b[39;49m\u001b[39m.\u001b[39;49mlang],\n\u001b[0;32m    130\u001b[0m         \u001b[39mlambda\u001b[39;49;00m match: \u001b[39mself\u001b[39;49m\u001b[39m.\u001b[39;49mautocorrect_word(match\u001b[39m.\u001b[39;49mgroup(\u001b[39m0\u001b[39;49m)),\n\u001b[0;32m    131\u001b[0m         sentence,\n\u001b[0;32m    132\u001b[0m     )\n",
            "File \u001b[1;32mc:\\Users\\rctuh\\AppData\\Local\\Programs\\Python\\Python310\\lib\\re.py:209\u001b[0m, in \u001b[0;36msub\u001b[1;34m(pattern, repl, string, count, flags)\u001b[0m\n\u001b[0;32m    202\u001b[0m \u001b[39mdef\u001b[39;00m \u001b[39msub\u001b[39m(pattern, repl, string, count\u001b[39m=\u001b[39m\u001b[39m0\u001b[39m, flags\u001b[39m=\u001b[39m\u001b[39m0\u001b[39m):\n\u001b[0;32m    203\u001b[0m     \u001b[39m\"\"\"Return the string obtained by replacing the leftmost\u001b[39;00m\n\u001b[0;32m    204\u001b[0m \u001b[39m    non-overlapping occurrences of the pattern in string by the\u001b[39;00m\n\u001b[0;32m    205\u001b[0m \u001b[39m    replacement repl.  repl can be either a string or a callable;\u001b[39;00m\n\u001b[0;32m    206\u001b[0m \u001b[39m    if a string, backslash escapes in it are processed.  If it is\u001b[39;00m\n\u001b[0;32m    207\u001b[0m \u001b[39m    a callable, it's passed the Match object and must return\u001b[39;00m\n\u001b[0;32m    208\u001b[0m \u001b[39m    a replacement string to be used.\"\"\"\u001b[39;00m\n\u001b[1;32m--> 209\u001b[0m     \u001b[39mreturn\u001b[39;00m _compile(pattern, flags)\u001b[39m.\u001b[39;49msub(repl, string, count)\n",
            "File \u001b[1;32mc:\\Users\\rctuh\\AppData\\Local\\Programs\\Python\\Python310\\lib\\site-packages\\autocorrect\\__init__.py:130\u001b[0m, in \u001b[0;36mSpeller.autocorrect_sentence.<locals>.<lambda>\u001b[1;34m(match)\u001b[0m\n\u001b[0;32m    127\u001b[0m \u001b[39mdef\u001b[39;00m \u001b[39mautocorrect_sentence\u001b[39m(\u001b[39mself\u001b[39m, sentence):\n\u001b[0;32m    128\u001b[0m     \u001b[39mreturn\u001b[39;00m re\u001b[39m.\u001b[39msub(\n\u001b[0;32m    129\u001b[0m         word_regexes[\u001b[39mself\u001b[39m\u001b[39m.\u001b[39mlang],\n\u001b[1;32m--> 130\u001b[0m         \u001b[39mlambda\u001b[39;00m match: \u001b[39mself\u001b[39;49m\u001b[39m.\u001b[39;49mautocorrect_word(match\u001b[39m.\u001b[39;49mgroup(\u001b[39m0\u001b[39;49m)),\n\u001b[0;32m    131\u001b[0m         sentence,\n\u001b[0;32m    132\u001b[0m     )\n",
            "File \u001b[1;32mc:\\Users\\rctuh\\AppData\\Local\\Programs\\Python\\Python310\\lib\\site-packages\\autocorrect\\__init__.py:114\u001b[0m, in \u001b[0;36mSpeller.autocorrect_word\u001b[1;34m(self, word)\u001b[0m\n\u001b[0;32m    111\u001b[0m \u001b[39mif\u001b[39;00m word \u001b[39m==\u001b[39m \u001b[39m\"\u001b[39m\u001b[39m\"\u001b[39m:\n\u001b[0;32m    112\u001b[0m     \u001b[39mreturn\u001b[39;00m \u001b[39m\"\u001b[39m\u001b[39m\"\u001b[39m\n\u001b[1;32m--> 114\u001b[0m candidates \u001b[39m=\u001b[39m \u001b[39mself\u001b[39;49m\u001b[39m.\u001b[39;49mget_candidates(word)\n\u001b[0;32m    116\u001b[0m \u001b[39m# in case the word is capitalized\u001b[39;00m\n\u001b[0;32m    117\u001b[0m \u001b[39mif\u001b[39;00m word[\u001b[39m0\u001b[39m]\u001b[39m.\u001b[39misupper():\n",
            "File \u001b[1;32mc:\\Users\\rctuh\\AppData\\Local\\Programs\\Python\\Python310\\lib\\site-packages\\autocorrect\\__init__.py:104\u001b[0m, in \u001b[0;36mSpeller.get_candidates\u001b[1;34m(self, word)\u001b[0m\n\u001b[0;32m     99\u001b[0m     candidates \u001b[39m=\u001b[39m \u001b[39mself\u001b[39m\u001b[39m.\u001b[39mexisting([word]) \u001b[39mor\u001b[39;00m \u001b[39mself\u001b[39m\u001b[39m.\u001b[39mexisting(w\u001b[39m.\u001b[39mtypos()) \u001b[39mor\u001b[39;00m [word]\n\u001b[0;32m    100\u001b[0m \u001b[39melse\u001b[39;00m:\n\u001b[0;32m    101\u001b[0m     candidates \u001b[39m=\u001b[39m (\n\u001b[0;32m    102\u001b[0m         \u001b[39mself\u001b[39m\u001b[39m.\u001b[39mexisting([word])\n\u001b[0;32m    103\u001b[0m         \u001b[39mor\u001b[39;00m \u001b[39mself\u001b[39m\u001b[39m.\u001b[39mexisting(w\u001b[39m.\u001b[39mtypos())\n\u001b[1;32m--> 104\u001b[0m         \u001b[39mor\u001b[39;00m \u001b[39mself\u001b[39;49m\u001b[39m.\u001b[39;49mexisting(w\u001b[39m.\u001b[39;49mdouble_typos())\n\u001b[0;32m    105\u001b[0m         \u001b[39mor\u001b[39;00m [word]\n\u001b[0;32m    106\u001b[0m     )\n\u001b[0;32m    107\u001b[0m \u001b[39mreturn\u001b[39;00m [(\u001b[39mself\u001b[39m\u001b[39m.\u001b[39mnlp_data\u001b[39m.\u001b[39mget(c, \u001b[39m0\u001b[39m), c) \u001b[39mfor\u001b[39;00m c \u001b[39min\u001b[39;00m candidates]\n",
            "File \u001b[1;32mc:\\Users\\rctuh\\AppData\\Local\\Programs\\Python\\Python310\\lib\\site-packages\\autocorrect\\__init__.py:94\u001b[0m, in \u001b[0;36mSpeller.existing\u001b[1;34m(self, words)\u001b[0m\n\u001b[0;32m     92\u001b[0m \u001b[39mdef\u001b[39;00m \u001b[39mexisting\u001b[39m(\u001b[39mself\u001b[39m, words):\n\u001b[0;32m     93\u001b[0m     \u001b[39m\"\"\"{'the', 'teh'} => {'the'}\"\"\"\u001b[39;00m\n\u001b[1;32m---> 94\u001b[0m     \u001b[39mreturn\u001b[39;00m {word \u001b[39mfor\u001b[39;00m word \u001b[39min\u001b[39;00m words \u001b[39mif\u001b[39;00m word \u001b[39min\u001b[39;00m \u001b[39mself\u001b[39m\u001b[39m.\u001b[39mnlp_data}\n",
            "File \u001b[1;32mc:\\Users\\rctuh\\AppData\\Local\\Programs\\Python\\Python310\\lib\\site-packages\\autocorrect\\__init__.py:94\u001b[0m, in \u001b[0;36m<setcomp>\u001b[1;34m(.0)\u001b[0m\n\u001b[0;32m     92\u001b[0m \u001b[39mdef\u001b[39;00m \u001b[39mexisting\u001b[39m(\u001b[39mself\u001b[39m, words):\n\u001b[0;32m     93\u001b[0m     \u001b[39m\"\"\"{'the', 'teh'} => {'the'}\"\"\"\u001b[39;00m\n\u001b[1;32m---> 94\u001b[0m     \u001b[39mreturn\u001b[39;00m {word \u001b[39mfor\u001b[39;00m word \u001b[39min\u001b[39;00m words \u001b[39mif\u001b[39;00m word \u001b[39min\u001b[39;49;00m \u001b[39mself\u001b[39;49m\u001b[39m.\u001b[39;49mnlp_data}\n",
            "\u001b[1;31mKeyboardInterrupt\u001b[0m: "
          ]
        }
      ],
      "source": [
        "for text in tqdm(train_data['bullet_points']):\n",
        "    processed_text = preprocess_bp(text)"
      ]
    },
    {
      "cell_type": "code",
      "execution_count": 34,
      "metadata": {},
      "outputs": [],
      "source": [
        "train_data.to_csv('processed_data.csv', index=False)"
      ]
    },
    {
      "cell_type": "code",
      "execution_count": 35,
      "metadata": {},
      "outputs": [
        {
          "data": {
            "text/html": [
              "<div>\n",
              "<style scoped>\n",
              "    .dataframe tbody tr th:only-of-type {\n",
              "        vertical-align: middle;\n",
              "    }\n",
              "\n",
              "    .dataframe tbody tr th {\n",
              "        vertical-align: top;\n",
              "    }\n",
              "\n",
              "    .dataframe thead th {\n",
              "        text-align: right;\n",
              "    }\n",
              "</style>\n",
              "<table border=\"1\" class=\"dataframe\">\n",
              "  <thead>\n",
              "    <tr style=\"text-align: right;\">\n",
              "      <th></th>\n",
              "      <th>product_id</th>\n",
              "      <th>title</th>\n",
              "      <th>bullet_points</th>\n",
              "      <th>description</th>\n",
              "      <th>product_type_id</th>\n",
              "      <th>product_length</th>\n",
              "    </tr>\n",
              "  </thead>\n",
              "  <tbody>\n",
              "    <tr>\n",
              "      <th>2</th>\n",
              "      <td>2765088</td>\n",
              "      <td>PRIKNIK Horn Red Electric Air Horn Compressor ...</td>\n",
              "      <td>[Loud Dual Tone Trumpet Horn, Compatible With ...</td>\n",
              "      <td>specification color red material aluminium vol...</td>\n",
              "      <td>7537</td>\n",
              "      <td>748.031495</td>\n",
              "    </tr>\n",
              "    <tr>\n",
              "      <th>3</th>\n",
              "      <td>1594019</td>\n",
              "      <td>ALISHAH Women's Cotton Ankle Length Leggings C...</td>\n",
              "      <td>[Made By 95%cotton and 5% Lycra which gives yo...</td>\n",
              "      <td>aishah woman lycra cotton ankel legging brand ...</td>\n",
              "      <td>2996</td>\n",
              "      <td>787.401574</td>\n",
              "    </tr>\n",
              "    <tr>\n",
              "      <th>5</th>\n",
              "      <td>2152929</td>\n",
              "      <td>HINS Metal Bucket Shape Plant Pot for Indoor &amp;...</td>\n",
              "      <td>[Simple and elegant, great for displaying indo...</td>\n",
              "      <td>hin brings elegant looking pot stand durable l...</td>\n",
              "      <td>5725</td>\n",
              "      <td>950.000000</td>\n",
              "    </tr>\n",
              "    <tr>\n",
              "      <th>7</th>\n",
              "      <td>2026580</td>\n",
              "      <td>Delavala Self Adhesive Kitchen Backsplash Wall...</td>\n",
              "      <td>[HIGH QUALITY PVC MATERIAL: The kitchen alumin...</td>\n",
              "      <td>aluminum foil stickersgood kitchen helper mom ...</td>\n",
              "      <td>6030</td>\n",
              "      <td>984.251967</td>\n",
              "    </tr>\n",
              "    <tr>\n",
              "      <th>9</th>\n",
              "      <td>2998633</td>\n",
              "      <td>Hexwell Essential oil for Home Fragrance Oil A...</td>\n",
              "      <td>[100% Pure And Natural Essential Oil Or Fragra...</td>\n",
              "      <td>transform home workplace hotel room personal a...</td>\n",
              "      <td>8201</td>\n",
              "      <td>393.700787</td>\n",
              "    </tr>\n",
              "  </tbody>\n",
              "</table>\n",
              "</div>"
            ],
            "text/plain": [
              "   product_id                                              title  \\\n",
              "2     2765088  PRIKNIK Horn Red Electric Air Horn Compressor ...   \n",
              "3     1594019  ALISHAH Women's Cotton Ankle Length Leggings C...   \n",
              "5     2152929  HINS Metal Bucket Shape Plant Pot for Indoor &...   \n",
              "7     2026580  Delavala Self Adhesive Kitchen Backsplash Wall...   \n",
              "9     2998633  Hexwell Essential oil for Home Fragrance Oil A...   \n",
              "\n",
              "                                       bullet_points  \\\n",
              "2  [Loud Dual Tone Trumpet Horn, Compatible With ...   \n",
              "3  [Made By 95%cotton and 5% Lycra which gives yo...   \n",
              "5  [Simple and elegant, great for displaying indo...   \n",
              "7  [HIGH QUALITY PVC MATERIAL: The kitchen alumin...   \n",
              "9  [100% Pure And Natural Essential Oil Or Fragra...   \n",
              "\n",
              "                                         description  product_type_id  \\\n",
              "2  specification color red material aluminium vol...             7537   \n",
              "3  aishah woman lycra cotton ankel legging brand ...             2996   \n",
              "5  hin brings elegant looking pot stand durable l...             5725   \n",
              "7  aluminum foil stickersgood kitchen helper mom ...             6030   \n",
              "9  transform home workplace hotel room personal a...             8201   \n",
              "\n",
              "   product_length  \n",
              "2      748.031495  \n",
              "3      787.401574  \n",
              "5      950.000000  \n",
              "7      984.251967  \n",
              "9      393.700787  "
            ]
          },
          "execution_count": 35,
          "metadata": {},
          "output_type": "execute_result"
        }
      ],
      "source": [
        "train_data.head()"
      ]
    },
    {
      "cell_type": "code",
      "execution_count": null,
      "metadata": {},
      "outputs": [],
      "source": [
        "#pip install emoji"
      ]
    },
    {
      "cell_type": "code",
      "execution_count": null,
      "metadata": {},
      "outputs": [],
      "source": [
        "import emoji"
      ]
    },
    {
      "cell_type": "code",
      "execution_count": 38,
      "metadata": {},
      "outputs": [],
      "source": [
        "#from tqdm import tqdm"
      ]
    },
    {
      "cell_type": "code",
      "execution_count": 39,
      "metadata": {},
      "outputs": [],
      "source": [
        "def remove_emojis(text):\n",
        "    cleaned_text = re.sub(r'@[A-Za-z0-9]+', '', str(text)) # remove @mentions\n",
        "    cleaned_text = re.sub(r'#\\w+', '', cleaned_text) # remove hashtags\n",
        "    cleaned_text = re.sub(r'RT[\\s]+', '', cleaned_text) # remove RT\n",
        "    cleaned_text = re.sub(r'http\\S+', '', cleaned_text) # remove URLs\n",
        "    cleaned_text = re.sub(r'www\\S+', '', cleaned_text) # remove the www\n",
        "    cleaned_text = re.sub(r'twitter+', '', cleaned_text) # remove the twitter\n",
        "    cleaned_text = re.sub(r'pic+', '', cleaned_text) # remove the pic\n",
        "    cleaned_text = re.sub(r'com', '', cleaned_text) # remove the com\n",
        "    emoji_pattern = re.compile(\"[\"\n",
        "                               u\"\\U0001F600-\\U0001F64F\"  # emoticons\n",
        "                               u\"\\U0001F300-\\U0001F5FF\"  # symbols & pictographs\n",
        "                               u\"\\U0001F680-\\U0001F6FF\"  # transport & map symbols\n",
        "                               u\"\\U0001F1E0-\\U0001F1FF\"  # flags (iOS)\n",
        "                               \"]+\", flags=re.UNICODE)\n",
        "    cleaned_text = emoji_pattern.sub(r'', text)\n",
        "    return cleaned_text"
      ]
    },
    {
      "cell_type": "code",
      "execution_count": 40,
      "metadata": {},
      "outputs": [
        {
          "name": "stderr",
          "output_type": "stream",
          "text": [
            "100%|██████████| 1038460/1038460 [00:20<00:00, 51896.05it/s]\n"
          ]
        }
      ],
      "source": [
        "for text in tqdm(train_data['bullet_points']):\n",
        "    processed_text = remove_emojis(text)\n"
      ]
    },
    {
      "cell_type": "code",
      "execution_count": 42,
      "metadata": {},
      "outputs": [
        {
          "data": {
            "text/html": [
              "<div>\n",
              "<style scoped>\n",
              "    .dataframe tbody tr th:only-of-type {\n",
              "        vertical-align: middle;\n",
              "    }\n",
              "\n",
              "    .dataframe tbody tr th {\n",
              "        vertical-align: top;\n",
              "    }\n",
              "\n",
              "    .dataframe thead th {\n",
              "        text-align: right;\n",
              "    }\n",
              "</style>\n",
              "<table border=\"1\" class=\"dataframe\">\n",
              "  <thead>\n",
              "    <tr style=\"text-align: right;\">\n",
              "      <th></th>\n",
              "      <th>product_id</th>\n",
              "      <th>title</th>\n",
              "      <th>bullet_points</th>\n",
              "      <th>description</th>\n",
              "      <th>product_type_id</th>\n",
              "      <th>product_length</th>\n",
              "    </tr>\n",
              "  </thead>\n",
              "  <tbody>\n",
              "    <tr>\n",
              "      <th>2</th>\n",
              "      <td>2765088</td>\n",
              "      <td>PRIKNIK Horn Red Electric Air Horn Compressor ...</td>\n",
              "      <td>[Loud Dual Tone Trumpet Horn, Compatible With ...</td>\n",
              "      <td>specification color red material aluminium vol...</td>\n",
              "      <td>7537</td>\n",
              "      <td>748.031495</td>\n",
              "    </tr>\n",
              "    <tr>\n",
              "      <th>3</th>\n",
              "      <td>1594019</td>\n",
              "      <td>ALISHAH Women's Cotton Ankle Length Leggings C...</td>\n",
              "      <td>[Made By 95%cotton and 5% Lycra which gives yo...</td>\n",
              "      <td>aishah woman lycra cotton ankel legging brand ...</td>\n",
              "      <td>2996</td>\n",
              "      <td>787.401574</td>\n",
              "    </tr>\n",
              "    <tr>\n",
              "      <th>5</th>\n",
              "      <td>2152929</td>\n",
              "      <td>HINS Metal Bucket Shape Plant Pot for Indoor &amp;...</td>\n",
              "      <td>[Simple and elegant, great for displaying indo...</td>\n",
              "      <td>hin brings elegant looking pot stand durable l...</td>\n",
              "      <td>5725</td>\n",
              "      <td>950.000000</td>\n",
              "    </tr>\n",
              "    <tr>\n",
              "      <th>7</th>\n",
              "      <td>2026580</td>\n",
              "      <td>Delavala Self Adhesive Kitchen Backsplash Wall...</td>\n",
              "      <td>[HIGH QUALITY PVC MATERIAL: The kitchen alumin...</td>\n",
              "      <td>aluminum foil stickersgood kitchen helper mom ...</td>\n",
              "      <td>6030</td>\n",
              "      <td>984.251967</td>\n",
              "    </tr>\n",
              "    <tr>\n",
              "      <th>9</th>\n",
              "      <td>2998633</td>\n",
              "      <td>Hexwell Essential oil for Home Fragrance Oil A...</td>\n",
              "      <td>[100% Pure And Natural Essential Oil Or Fragra...</td>\n",
              "      <td>transform home workplace hotel room personal a...</td>\n",
              "      <td>8201</td>\n",
              "      <td>393.700787</td>\n",
              "    </tr>\n",
              "  </tbody>\n",
              "</table>\n",
              "</div>"
            ],
            "text/plain": [
              "   product_id                                              title  \\\n",
              "2     2765088  PRIKNIK Horn Red Electric Air Horn Compressor ...   \n",
              "3     1594019  ALISHAH Women's Cotton Ankle Length Leggings C...   \n",
              "5     2152929  HINS Metal Bucket Shape Plant Pot for Indoor &...   \n",
              "7     2026580  Delavala Self Adhesive Kitchen Backsplash Wall...   \n",
              "9     2998633  Hexwell Essential oil for Home Fragrance Oil A...   \n",
              "\n",
              "                                       bullet_points  \\\n",
              "2  [Loud Dual Tone Trumpet Horn, Compatible With ...   \n",
              "3  [Made By 95%cotton and 5% Lycra which gives yo...   \n",
              "5  [Simple and elegant, great for displaying indo...   \n",
              "7  [HIGH QUALITY PVC MATERIAL: The kitchen alumin...   \n",
              "9  [100% Pure And Natural Essential Oil Or Fragra...   \n",
              "\n",
              "                                         description  product_type_id  \\\n",
              "2  specification color red material aluminium vol...             7537   \n",
              "3  aishah woman lycra cotton ankel legging brand ...             2996   \n",
              "5  hin brings elegant looking pot stand durable l...             5725   \n",
              "7  aluminum foil stickersgood kitchen helper mom ...             6030   \n",
              "9  transform home workplace hotel room personal a...             8201   \n",
              "\n",
              "   product_length  \n",
              "2      748.031495  \n",
              "3      787.401574  \n",
              "5      950.000000  \n",
              "7      984.251967  \n",
              "9      393.700787  "
            ]
          },
          "execution_count": 42,
          "metadata": {},
          "output_type": "execute_result"
        }
      ],
      "source": [
        "train_data.head()"
      ]
    },
    {
      "cell_type": "code",
      "execution_count": 43,
      "metadata": {},
      "outputs": [],
      "source": [
        "train_data.to_csv('processed_data_emoji.csv', index=False)"
      ]
    },
    {
      "attachments": {},
      "cell_type": "markdown",
      "metadata": {},
      "source": [
        "## Preprocessing the Test Data"
      ]
    },
    {
      "cell_type": "code",
      "execution_count": 44,
      "metadata": {},
      "outputs": [
        {
          "data": {
            "text/html": [
              "<div>\n",
              "<style scoped>\n",
              "    .dataframe tbody tr th:only-of-type {\n",
              "        vertical-align: middle;\n",
              "    }\n",
              "\n",
              "    .dataframe tbody tr th {\n",
              "        vertical-align: top;\n",
              "    }\n",
              "\n",
              "    .dataframe thead th {\n",
              "        text-align: right;\n",
              "    }\n",
              "</style>\n",
              "<table border=\"1\" class=\"dataframe\">\n",
              "  <thead>\n",
              "    <tr style=\"text-align: right;\">\n",
              "      <th></th>\n",
              "      <th>PRODUCT_ID</th>\n",
              "      <th>TITLE</th>\n",
              "      <th>BULLET_POINTS</th>\n",
              "      <th>DESCRIPTION</th>\n",
              "      <th>PRODUCT_TYPE_ID</th>\n",
              "    </tr>\n",
              "  </thead>\n",
              "  <tbody>\n",
              "    <tr>\n",
              "      <th>0</th>\n",
              "      <td>604373</td>\n",
              "      <td>Manuel d'Héliogravure Et de Photogravure En Re...</td>\n",
              "      <td>NaN</td>\n",
              "      <td>NaN</td>\n",
              "      <td>6142</td>\n",
              "    </tr>\n",
              "    <tr>\n",
              "      <th>1</th>\n",
              "      <td>1729783</td>\n",
              "      <td>DCGARING Microfiber Throw Blanket Warm Fuzzy P...</td>\n",
              "      <td>[QUALITY GUARANTEED: Luxury cozy plush polyest...</td>\n",
              "      <td>&lt;b&gt;DCGARING Throw Blanket&lt;/b&gt;&lt;br&gt;&lt;br&gt; &lt;b&gt;Size ...</td>\n",
              "      <td>1622</td>\n",
              "    </tr>\n",
              "    <tr>\n",
              "      <th>2</th>\n",
              "      <td>1871949</td>\n",
              "      <td>I-Match Auto Parts Front License Plate Bracket...</td>\n",
              "      <td>[Front License Plate Bracket Made Of Plastic,D...</td>\n",
              "      <td>Replacement for The Following Vehicles:2020 LE...</td>\n",
              "      <td>7540</td>\n",
              "    </tr>\n",
              "    <tr>\n",
              "      <th>3</th>\n",
              "      <td>1107571</td>\n",
              "      <td>PinMart Gold Plated Excellence in Service 1 Ye...</td>\n",
              "      <td>[Available as a single item or bulk packed. Se...</td>\n",
              "      <td>Our Excellence in Service Lapel Pins feature a...</td>\n",
              "      <td>12442</td>\n",
              "    </tr>\n",
              "    <tr>\n",
              "      <th>4</th>\n",
              "      <td>624253</td>\n",
              "      <td>Visual Mathematics, Illustrated by the TI-92 a...</td>\n",
              "      <td>NaN</td>\n",
              "      <td>NaN</td>\n",
              "      <td>6318</td>\n",
              "    </tr>\n",
              "  </tbody>\n",
              "</table>\n",
              "</div>"
            ],
            "text/plain": [
              "   PRODUCT_ID                                              TITLE  \\\n",
              "0      604373  Manuel d'Héliogravure Et de Photogravure En Re...   \n",
              "1     1729783  DCGARING Microfiber Throw Blanket Warm Fuzzy P...   \n",
              "2     1871949  I-Match Auto Parts Front License Plate Bracket...   \n",
              "3     1107571  PinMart Gold Plated Excellence in Service 1 Ye...   \n",
              "4      624253  Visual Mathematics, Illustrated by the TI-92 a...   \n",
              "\n",
              "                                       BULLET_POINTS  \\\n",
              "0                                                NaN   \n",
              "1  [QUALITY GUARANTEED: Luxury cozy plush polyest...   \n",
              "2  [Front License Plate Bracket Made Of Plastic,D...   \n",
              "3  [Available as a single item or bulk packed. Se...   \n",
              "4                                                NaN   \n",
              "\n",
              "                                         DESCRIPTION  PRODUCT_TYPE_ID  \n",
              "0                                                NaN             6142  \n",
              "1  <b>DCGARING Throw Blanket</b><br><br> <b>Size ...             1622  \n",
              "2  Replacement for The Following Vehicles:2020 LE...             7540  \n",
              "3  Our Excellence in Service Lapel Pins feature a...            12442  \n",
              "4                                                NaN             6318  "
            ]
          },
          "execution_count": 44,
          "metadata": {},
          "output_type": "execute_result"
        }
      ],
      "source": [
        "test_data.head()"
      ]
    },
    {
      "cell_type": "code",
      "execution_count": null,
      "metadata": {},
      "outputs": [],
      "source": [
        "#Droppping Nan values\n",
        "test_data.dropna(inplace=True)"
      ]
    },
    {
      "cell_type": "code",
      "execution_count": null,
      "metadata": {},
      "outputs": [],
      "source": [
        "total_iterations = len(test_data['DESCRIPTION'])\n",
        "\n",
        "for text in tqdm(test_data['DESCRIPTION'], total=total_iterations):\n",
        "    preprocessed_text = preprocess_text(text)"
      ]
    },
    {
      "cell_type": "code",
      "execution_count": null,
      "metadata": {},
      "outputs": [],
      "source": [
        "print(test_data['DESCRIPTION'].head())"
      ]
    }
  ],
  "metadata": {
    "colab": {
      "provenance": []
    },
    "kernelspec": {
      "display_name": "Python 3",
      "name": "python3"
    },
    "language_info": {
      "codemirror_mode": {
        "name": "ipython",
        "version": 3
      },
      "file_extension": ".py",
      "mimetype": "text/x-python",
      "name": "python",
      "nbconvert_exporter": "python",
      "pygments_lexer": "ipython3",
      "version": "3.10.0"
    }
  },
  "nbformat": 4,
  "nbformat_minor": 0
}
